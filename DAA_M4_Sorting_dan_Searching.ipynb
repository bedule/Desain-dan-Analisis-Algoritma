{
  "nbformat": 4,
  "nbformat_minor": 0,
  "metadata": {
    "colab": {
      "provenance": [],
      "authorship_tag": "ABX9TyM/qrCituXIL7tZUHnB67gt",
      "include_colab_link": true
    },
    "kernelspec": {
      "name": "python3",
      "display_name": "Python 3"
    },
    "language_info": {
      "name": "python"
    }
  },
  "cells": [
    {
      "cell_type": "markdown",
      "metadata": {
        "id": "view-in-github",
        "colab_type": "text"
      },
      "source": [
        "<a href=\"https://colab.research.google.com/github/bedule/Desain-dan-Analisis-Algoritma/blob/main/DAA_M4_Sorting_dan_Searching.ipynb\" target=\"_parent\"><img src=\"https://colab.research.google.com/assets/colab-badge.svg\" alt=\"Open In Colab\"/></a>"
      ]
    },
    {
      "cell_type": "markdown",
      "source": [
        "Untuk **FUNGSI SWAP**, jika di paling bawah menulis var1,var2 = var2, var1. maka jika di print bentuknya akan dimulai dari var2 = 2[link text](https://)"
      ],
      "metadata": {
        "id": "8QN8Gk566On1"
      }
    },
    {
      "cell_type": "code",
      "execution_count": 2,
      "metadata": {
        "id": "HYzAdy4I5NVD"
      },
      "outputs": [],
      "source": [
        "#swap function\n",
        "var1 = 1\n",
        "var2 = 2\n",
        "var1, var2 = var2, var1"
      ]
    },
    {
      "cell_type": "code",
      "source": [
        "print(var1, var2)"
      ],
      "metadata": {
        "colab": {
          "base_uri": "https://localhost:8080/"
        },
        "id": "xgcEKR9y5ait",
        "outputId": "f31418e3-f30d-4b39-c15b-2c8ebebe086f"
      },
      "execution_count": 3,
      "outputs": [
        {
          "output_type": "stream",
          "name": "stdout",
          "text": [
            "2 1\n"
          ]
        }
      ]
    },
    {
      "cell_type": "code",
      "source": [
        "#swap function\n",
        "var1 = 1\n",
        "var2 = 2\n",
        "var3 = 3\n",
        "var1, var2, var3 = var3, var2, var1"
      ],
      "metadata": {
        "id": "pGpp5zdE5fla"
      },
      "execution_count": 4,
      "outputs": []
    },
    {
      "cell_type": "code",
      "source": [
        "print(var1, var2, var3)"
      ],
      "metadata": {
        "colab": {
          "base_uri": "https://localhost:8080/"
        },
        "id": "HARua2n25rre",
        "outputId": "fea4e0a2-e820-44f1-b6d3-da9592b5a0ee"
      },
      "execution_count": 5,
      "outputs": [
        {
          "output_type": "stream",
          "name": "stdout",
          "text": [
            "3 2 1\n"
          ]
        }
      ]
    },
    {
      "cell_type": "markdown",
      "source": [
        "BUBBLE SORT"
      ],
      "metadata": {
        "id": "ZSOAhEM96c3k"
      }
    },
    {
      "cell_type": "code",
      "source": [
        "list = [25,21,22,24,23,27,26]\n",
        "#bisa di modif dengan angka kesukaan kalian"
      ],
      "metadata": {
        "id": "4ZETXr8x6Wne"
      },
      "execution_count": 15,
      "outputs": []
    },
    {
      "cell_type": "code",
      "source": [
        "lastElementIndex = len(list)-1\n",
        "print(0,list)\n",
        "for idx in range (lastElementIndex):\n",
        "  if list[idx] > list[idx+1]:\n",
        "    list[idx], list[idx+1] = list[idx+1], list[idx]\n",
        "    print(idx+1, list)"
      ],
      "metadata": {
        "colab": {
          "base_uri": "https://localhost:8080/"
        },
        "id": "CssjHWCA6uPj",
        "outputId": "c59bc8df-4877-4bd2-84d6-fc962e903082"
      },
      "execution_count": 16,
      "outputs": [
        {
          "output_type": "stream",
          "name": "stdout",
          "text": [
            "0 [25, 21, 22, 24, 23, 27, 26]\n",
            "1 [21, 25, 22, 24, 23, 27, 26]\n",
            "2 [21, 22, 25, 24, 23, 27, 26]\n",
            "3 [21, 22, 24, 25, 23, 27, 26]\n",
            "4 [21, 22, 24, 23, 25, 27, 26]\n",
            "6 [21, 22, 24, 23, 25, 26, 27]\n"
          ]
        }
      ]
    },
    {
      "cell_type": "code",
      "source": [
        "def BubbleSort (list):\n",
        "  lastElementIndex = len(list)-1\n",
        "  for passNo in range(lastElementIndex, 0, -1):\n",
        "    for idx in range(passNo):\n",
        "      if list[idx] > list[idx+1]:\n",
        "        list [idx], list[idx+1] = list[idx+1], list[idx]\n",
        "        return list"
      ],
      "metadata": {
        "id": "u1kA3nxs8DvW"
      },
      "execution_count": 17,
      "outputs": []
    },
    {
      "cell_type": "code",
      "source": [
        "list"
      ],
      "metadata": {
        "colab": {
          "base_uri": "https://localhost:8080/"
        },
        "id": "_zCl0zez9i3d",
        "outputId": "38f3ca39-a074-47e9-c331-49acfee2526c"
      },
      "execution_count": 18,
      "outputs": [
        {
          "output_type": "execute_result",
          "data": {
            "text/plain": [
              "[21, 22, 24, 23, 25, 26, 27]"
            ]
          },
          "metadata": {},
          "execution_count": 18
        }
      ]
    },
    {
      "cell_type": "code",
      "source": [
        "list = [25,21,22,24,23,27,26]\n",
        "BubbleSort(list)\n",
        "list"
      ],
      "metadata": {
        "colab": {
          "base_uri": "https://localhost:8080/"
        },
        "id": "Pj7HGV-GacWY",
        "outputId": "ec0ba4f2-03cf-4791-abee-2bb3f1125854"
      },
      "execution_count": 19,
      "outputs": [
        {
          "output_type": "execute_result",
          "data": {
            "text/plain": [
              "[21, 25, 22, 24, 23, 27, 26]"
            ]
          },
          "metadata": {},
          "execution_count": 19
        }
      ]
    },
    {
      "cell_type": "code",
      "source": [
        "list = [100,20,60,90,40,30,10]\n",
        "BubbleSort(list)\n",
        "#latihan"
      ],
      "metadata": {
        "colab": {
          "base_uri": "https://localhost:8080/"
        },
        "id": "qYopGqOw-OMX",
        "outputId": "1a5ad8e5-47cb-4ab7-dc94-575a28cc56a6"
      },
      "execution_count": 20,
      "outputs": [
        {
          "output_type": "execute_result",
          "data": {
            "text/plain": [
              "[20, 100, 60, 90, 40, 30, 10]"
            ]
          },
          "metadata": {},
          "execution_count": 20
        }
      ]
    },
    {
      "cell_type": "markdown",
      "source": [
        "**Insertion Sort**"
      ],
      "metadata": {
        "id": "GjSaX9y-A0Np"
      }
    },
    {
      "cell_type": "code",
      "source": [
        "def InsertionSort(list):\n",
        "  for i in range(1, len(list)):\n",
        "    j = i-1\n",
        "    next = list[i]\n",
        "\n",
        "#bandingkan elemen saat ini dengan yang berikutnya\n",
        "\n",
        "    while(list[j] > next) and (j >= 0):\n",
        "      list[j+1] = list[j]\n",
        "      j = j-1\n",
        "    list[j+1] = next\n",
        "  return list"
      ],
      "metadata": {
        "id": "2CQmPBspA3nd"
      },
      "execution_count": 21,
      "outputs": []
    },
    {
      "cell_type": "code",
      "source": [
        "#masukan angka sesuka hati\n",
        "list = [35,31,32,34,33,37,36]"
      ],
      "metadata": {
        "id": "VBLfaZy5CHBu"
      },
      "execution_count": 22,
      "outputs": []
    },
    {
      "cell_type": "code",
      "source": [
        "list"
      ],
      "metadata": {
        "colab": {
          "base_uri": "https://localhost:8080/"
        },
        "id": "LHR4jUlNCZTL",
        "outputId": "ec40dc4e-98ae-42c9-d800-58baa6808427"
      },
      "execution_count": 23,
      "outputs": [
        {
          "output_type": "execute_result",
          "data": {
            "text/plain": [
              "[35, 31, 32, 34, 33, 37, 36]"
            ]
          },
          "metadata": {},
          "execution_count": 23
        }
      ]
    },
    {
      "cell_type": "code",
      "source": [
        "InsertionSort(list)"
      ],
      "metadata": {
        "colab": {
          "base_uri": "https://localhost:8080/"
        },
        "id": "y8EWELBICgv5",
        "outputId": "50773a98-e298-4089-a17e-37b8aa494545"
      },
      "execution_count": 24,
      "outputs": [
        {
          "output_type": "execute_result",
          "data": {
            "text/plain": [
              "[31, 32, 33, 34, 35, 36, 37]"
            ]
          },
          "metadata": {},
          "execution_count": 24
        }
      ]
    },
    {
      "cell_type": "code",
      "source": [
        "#latihan\n",
        "list = [89,12,57,16,25,11,75]"
      ],
      "metadata": {
        "id": "5nJloX2NFTaU"
      },
      "execution_count": 25,
      "outputs": []
    },
    {
      "cell_type": "code",
      "source": [
        "list"
      ],
      "metadata": {
        "colab": {
          "base_uri": "https://localhost:8080/"
        },
        "id": "uKGWByzlFmO4",
        "outputId": "d3a91c8a-461c-4526-8241-5e3134375b20"
      },
      "execution_count": 26,
      "outputs": [
        {
          "output_type": "execute_result",
          "data": {
            "text/plain": [
              "[89, 12, 57, 16, 25, 11, 75]"
            ]
          },
          "metadata": {},
          "execution_count": 26
        }
      ]
    },
    {
      "cell_type": "code",
      "source": [
        "InsertionSort(list)"
      ],
      "metadata": {
        "colab": {
          "base_uri": "https://localhost:8080/"
        },
        "id": "LwGUplJOFpO0",
        "outputId": "00cfcf0d-29ea-437f-bf18-777b429bb56b"
      },
      "execution_count": 27,
      "outputs": [
        {
          "output_type": "execute_result",
          "data": {
            "text/plain": [
              "[11, 12, 16, 25, 57, 75, 89]"
            ]
          },
          "metadata": {},
          "execution_count": 27
        }
      ]
    },
    {
      "cell_type": "markdown",
      "source": [
        "**Selection Short** (mengurutkan dari kecil dengan melakukan penukaran dari depan ke belakang)"
      ],
      "metadata": {
        "id": "hGWjTdD8F4Mq"
      }
    },
    {
      "cell_type": "code",
      "source": [
        "def SelectionSort(list):\n",
        "  for fill_slot in range(len(list) - 1, 0, -1):\n",
        "    max_index = 0\n",
        "    for location in range(1, fill_slot + 1):\n",
        "      if list[location] > list[max_index]:\n",
        "        max_index = location\n",
        "    list[fill_slot], list[max_index] = list[max_index], list[fill_slot]\n",
        "  return list"
      ],
      "metadata": {
        "id": "iVqla0pTFuXt"
      },
      "execution_count": 28,
      "outputs": []
    },
    {
      "cell_type": "code",
      "source": [
        "list = [70,15,25,19,34,44]\n",
        "SelectionSort(list)"
      ],
      "metadata": {
        "colab": {
          "base_uri": "https://localhost:8080/"
        },
        "id": "jRAFH-EyH3ln",
        "outputId": "6f995a28-1a13-4c06-f5f7-bdbc220da5ff"
      },
      "execution_count": 29,
      "outputs": [
        {
          "output_type": "execute_result",
          "data": {
            "text/plain": [
              "[15, 19, 25, 34, 44, 70]"
            ]
          },
          "metadata": {},
          "execution_count": 29
        }
      ]
    },
    {
      "cell_type": "code",
      "source": [
        "list"
      ],
      "metadata": {
        "colab": {
          "base_uri": "https://localhost:8080/"
        },
        "id": "n4aDsgqjINoR",
        "outputId": "d8976d44-eb99-44a3-d9f1-75f8f33b2f84"
      },
      "execution_count": 30,
      "outputs": [
        {
          "output_type": "execute_result",
          "data": {
            "text/plain": [
              "[15, 19, 25, 34, 44, 70]"
            ]
          },
          "metadata": {},
          "execution_count": 30
        }
      ]
    },
    {
      "cell_type": "code",
      "source": [
        "list = [89,12,57,16,25]\n",
        "SelectionSort(list)"
      ],
      "metadata": {
        "colab": {
          "base_uri": "https://localhost:8080/"
        },
        "id": "M4O4J1V-IXnl",
        "outputId": "7e9a1922-4ea5-46a8-aff6-774834fafe77"
      },
      "execution_count": 31,
      "outputs": [
        {
          "output_type": "execute_result",
          "data": {
            "text/plain": [
              "[12, 16, 25, 57, 89]"
            ]
          },
          "metadata": {},
          "execution_count": 31
        }
      ]
    },
    {
      "cell_type": "markdown",
      "source": [
        "**LINEAR SEARCHING**"
      ],
      "metadata": {
        "id": "yUQW0SFnIuXz"
      }
    },
    {
      "cell_type": "code",
      "source": [
        "def LinearSearch(list, item):\n",
        "  index = 0\n",
        "  found = False\n",
        "\n",
        "  while index < len(list) and found is False:\n",
        "    if list[index] == item:\n",
        "      found = True\n",
        "    else:\n",
        "      index = index + 1\n",
        "  return found"
      ],
      "metadata": {
        "id": "tdGTtMRwItqP"
      },
      "execution_count": 32,
      "outputs": []
    },
    {
      "cell_type": "code",
      "source": [
        "list = [12,33,11,99,22,55,90]\n",
        "print(LinearSearch(list,12))\n",
        "print(LinearSearch(list,91))"
      ],
      "metadata": {
        "colab": {
          "base_uri": "https://localhost:8080/"
        },
        "id": "9WkeJ__VLB7Y",
        "outputId": "5b571780-7d20-4044-b4e3-acb7207e95e7"
      },
      "execution_count": 33,
      "outputs": [
        {
          "output_type": "stream",
          "name": "stdout",
          "text": [
            "True\n",
            "False\n"
          ]
        }
      ]
    },
    {
      "cell_type": "code",
      "source": [
        "list = ['y', 'u', 'i', 'w','o', 'a', 'q', 'u', 'j', 'p']\n",
        "print(LinearSearch(list,'a'))\n",
        "print(LinearSearch(list,'x'))"
      ],
      "metadata": {
        "colab": {
          "base_uri": "https://localhost:8080/"
        },
        "id": "Pmpfad5mOXAW",
        "outputId": "c63a18c8-357a-4da4-9667-90335709d74b"
      },
      "execution_count": 34,
      "outputs": [
        {
          "output_type": "stream",
          "name": "stdout",
          "text": [
            "True\n",
            "False\n"
          ]
        }
      ]
    },
    {
      "cell_type": "markdown",
      "source": [
        "BINARY SEARCH"
      ],
      "metadata": {
        "id": "Y5Ito3ciQ0o9"
      }
    },
    {
      "cell_type": "code",
      "source": [
        "def BinarySearch(list, item):\n",
        "  first = 0\n",
        "  last = len(list)-1\n",
        "  found = False\n",
        "\n",
        "  while first<=last and not found:\n",
        "    midpoint = (first + last)//2\n",
        "    if list[midpoint] == item:\n",
        "      found = True\n",
        "    else:\n",
        "      if item<list[midpoint]:\n",
        "        last = midpoint-1\n",
        "      else:\n",
        "        first = midpoint+1\n",
        "  return found"
      ],
      "metadata": {
        "id": "OTQICZLCQtcz"
      },
      "execution_count": 37,
      "outputs": []
    },
    {
      "cell_type": "code",
      "source": [
        "list = [12,33,11,99,22,55,90]\n",
        "sorted_list = BubbleSort(list)\n",
        "print(BinarySearch(list, 33))\n",
        "print(BinarySearch(list, 91))"
      ],
      "metadata": {
        "colab": {
          "base_uri": "https://localhost:8080/"
        },
        "id": "4M37QWSmSVBb",
        "outputId": "22c04cd1-85f8-4666-c153-6225da262f21"
      },
      "execution_count": 41,
      "outputs": [
        {
          "output_type": "stream",
          "name": "stdout",
          "text": [
            "True\n",
            "False\n"
          ]
        }
      ]
    },
    {
      "cell_type": "code",
      "source": [
        "list = ['y', 'u', 'i', 'w','o', 'a', 'q', 'u', 'j', 'p']\n",
        "sorted_list = BubbleSort(list)\n",
        "print(BinarySearch(list,'a'))\n",
        "print(BinarySearch(list,'x'))"
      ],
      "metadata": {
        "colab": {
          "base_uri": "https://localhost:8080/"
        },
        "id": "0wB0YE95UMGe",
        "outputId": "6ba5da93-3f76-4da2-964d-4682d42c846e"
      },
      "execution_count": 47,
      "outputs": [
        {
          "output_type": "stream",
          "name": "stdout",
          "text": [
            "False\n",
            "False\n"
          ]
        }
      ]
    },
    {
      "cell_type": "markdown",
      "source": [
        "Interpolation Search"
      ],
      "metadata": {
        "id": "fw08KHSGVQWE"
      }
    },
    {
      "cell_type": "code",
      "source": [
        "def IntPolsearch(list,x):\n",
        "    idx0 = 0\n",
        "    idxn = (len(list)-1)\n",
        "    found = False\n",
        "    while idx0 <= idxn and x >= list[idx0] and x <= list[idxn]:\n",
        "        \n",
        "        mid = idx0 +int(((float(idxn - idx0)/( list[idxn] - list[idx0])) * (x - list[idx0])))\n",
        "\n",
        "        if list[mid] == x:\n",
        "            found = True\n",
        "            return found\n",
        "    \n",
        "        if list[mid] < x:\n",
        "            idx0 = mid +1\n",
        "    return found"
      ],
      "metadata": {
        "id": "Kw5LjI6XU91q"
      },
      "execution_count": 43,
      "outputs": []
    },
    {
      "cell_type": "code",
      "source": [
        "list = [12,33,11,99,22,55,90]\n",
        "print(IntPolsearch(list,12))\n",
        "print(IntPolsearch(list,91))"
      ],
      "metadata": {
        "colab": {
          "base_uri": "https://localhost:8080/"
        },
        "id": "SbTvCduEYCnt",
        "outputId": "9021255d-b47f-4730-b2c1-2f31018d47e3"
      },
      "execution_count": 44,
      "outputs": [
        {
          "output_type": "stream",
          "name": "stdout",
          "text": [
            "True\n",
            "False\n"
          ]
        }
      ]
    },
    {
      "cell_type": "code",
      "source": [
        "list = ['y','u','i','w','o','a','q','u','j','p']\n",
        "sorted_list = BubbleSort(list)\n",
        "print(IntPolsearch(list,'u'))\n",
        "print(IntPolsearch(list,'x'))"
      ],
      "metadata": {
        "colab": {
          "base_uri": "https://localhost:8080/"
        },
        "id": "UvoR4eGnZP4B",
        "outputId": "66ebc087-a891-4bae-c6c2-a8d93aa7cf67"
      },
      "execution_count": 48,
      "outputs": [
        {
          "output_type": "stream",
          "name": "stdout",
          "text": [
            "False\n",
            "False\n"
          ]
        }
      ]
    }
  ]
}