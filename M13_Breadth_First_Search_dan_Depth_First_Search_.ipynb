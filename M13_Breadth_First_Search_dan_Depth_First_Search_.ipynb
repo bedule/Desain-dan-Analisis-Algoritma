{
  "nbformat": 4,
  "nbformat_minor": 0,
  "metadata": {
    "colab": {
      "provenance": [],
      "authorship_tag": "ABX9TyPNOkLOInBjWmjw3uFVgQ/x",
      "include_colab_link": true
    },
    "kernelspec": {
      "name": "python3",
      "display_name": "Python 3"
    },
    "language_info": {
      "name": "python"
    }
  },
  "cells": [
    {
      "cell_type": "markdown",
      "metadata": {
        "id": "view-in-github",
        "colab_type": "text"
      },
      "source": [
        "<a href=\"https://colab.research.google.com/github/bedule/Desain-dan-Analisis-Algoritma/blob/main/M13_Breadth_First_Search_dan_Depth_First_Search_.ipynb\" target=\"_parent\"><img src=\"https://colab.research.google.com/assets/colab-badge.svg\" alt=\"Open In Colab\"/></a>"
      ]
    },
    {
      "cell_type": "markdown",
      "source": [
        "**Implementasi Algoritma Breadth-first Search**"
      ],
      "metadata": {
        "id": "l6jLo8c8Drgk"
      }
    },
    {
      "cell_type": "markdown",
      "source": [
        "**FIRST SEARCH ITU MELAKUKAN LEVEL KE SAMPING**"
      ],
      "metadata": {
        "id": "jBRcENOYS8jf"
      }
    },
    {
      "cell_type": "code",
      "execution_count": 1,
      "metadata": {
        "id": "vjBHbHWDCKpe"
      },
      "outputs": [],
      "source": [
        "def bfs(graph, start):\n",
        "  visited = []\n",
        "  queue = [start]\n",
        "\n",
        "  while queue:\n",
        "    node = queue.pop(0)\n",
        "    if node not in visited:\n",
        "      visited.append(node)\n",
        "      neighbours = graph[node]\n",
        "      for neighbour in neighbours :\n",
        "        queue.append(neighbour)\n",
        "  return visited"
      ]
    },
    {
      "cell_type": "code",
      "source": [
        "graph={'Amin' : {'Wasim', 'Nick', 'Mike'},\n",
        "       'Wasim' : {'Imran', 'Amin'},\n",
        "       'Imran' : {'Wasim','Faras'},\n",
        "       'Faras' : {'Imran'},\n",
        "       'Mike' : {'Amin'},\n",
        "       'Nick' : {'Amin'}}"
      ],
      "metadata": {
        "id": "SWIBEY0NDeRS"
      },
      "execution_count": 2,
      "outputs": []
    },
    {
      "cell_type": "code",
      "source": [
        "#O Amin------------\n",
        "#|        |       |\n",
        "#O Wasim  O Nick  O Mike\n",
        "#|\n",
        "#O Imran\n",
        "#|\n",
        "#O Faras\n",
        "\n",
        "bfs(graph, 'Amin')"
      ],
      "metadata": {
        "colab": {
          "base_uri": "https://localhost:8080/"
        },
        "id": "HCjoe5SJEH8p",
        "outputId": "86409970-b61c-4ee0-8da6-28637c11e389"
      },
      "execution_count": 3,
      "outputs": [
        {
          "output_type": "execute_result",
          "data": {
            "text/plain": [
              "['Amin', 'Wasim', 'Nick', 'Mike', 'Imran', 'Faras']"
            ]
          },
          "metadata": {},
          "execution_count": 3
        }
      ]
    },
    {
      "cell_type": "markdown",
      "source": [
        "**Yang diatas level 1 = (Amin), level 2 = (Wasim, Nick, Mike), level 3 = (Imran), level 4 (Faras)**"
      ],
      "metadata": {
        "id": "cnRagIWNFovy"
      }
    },
    {
      "cell_type": "code",
      "source": [
        "#O Wasim-------\n",
        "#|            |\n",
        "#O Imran      O Amin-----\n",
        "#|            |         |\n",
        "#O Faras      O Nick    O Mike\n",
        "\n",
        "bfs(graph,'Wasim')"
      ],
      "metadata": {
        "colab": {
          "base_uri": "https://localhost:8080/"
        },
        "id": "v-YX1tCrE0JQ",
        "outputId": "207bfa02-71d1-4c37-d28d-51d0c2cbd10b"
      },
      "execution_count": 4,
      "outputs": [
        {
          "output_type": "execute_result",
          "data": {
            "text/plain": [
              "['Wasim', 'Imran', 'Amin', 'Faras', 'Nick', 'Mike']"
            ]
          },
          "metadata": {},
          "execution_count": 4
        }
      ]
    },
    {
      "cell_type": "markdown",
      "source": [
        "**Yang diatas level 1 = (Wasim), level 2 = (Imran, Amin), level 3 = (Faras, Nick, Mike)**"
      ],
      "metadata": {
        "id": "y7cZQascGFOK"
      }
    },
    {
      "cell_type": "code",
      "source": [
        "#O Faras\n",
        "#|\n",
        "#O Imran\n",
        "#|\n",
        "#O Wasim  O Nick  O Mike\n",
        "#|        |       |\n",
        "#O Amin------------\n",
        "\n",
        "bfs(graph, 'Faras')"
      ],
      "metadata": {
        "colab": {
          "base_uri": "https://localhost:8080/"
        },
        "id": "MA_rCntoGUgN",
        "outputId": "26956a22-c89e-4365-f635-fad7114c71fd"
      },
      "execution_count": 5,
      "outputs": [
        {
          "output_type": "execute_result",
          "data": {
            "text/plain": [
              "['Faras', 'Imran', 'Wasim', 'Amin', 'Nick', 'Mike']"
            ]
          },
          "metadata": {},
          "execution_count": 5
        }
      ]
    },
    {
      "cell_type": "markdown",
      "source": [
        "**Yang diatas faras hanya mengenal imron, imron mengenal wasim --> amin --> nick --> mike**"
      ],
      "metadata": {
        "id": "oAhOHq0hGfW3"
      }
    },
    {
      "cell_type": "markdown",
      "source": [
        "**LATIHAN 1**"
      ],
      "metadata": {
        "id": "eeL1A85dTxjd"
      }
    },
    {
      "cell_type": "code",
      "source": [
        "graph={'Rektor' : {'Warek1', 'Warek2'},\n",
        "       'Warek1' : {'Rektor'},\n",
        "       'Warek2' : {'Rektor','Kaprodi1', 'Kaprodi2','Kaprodi3'},\n",
        "       'Kaprodi1' : {'Warek2','Dosen A','Dosen B','Dosen C'},\n",
        "       'Dosen A' : {'Kaprodi1'},\n",
        "       'Dosen B' : {'Kaprodi1'},\n",
        "       'Dosen C' : {'Kaprodi1'},\n",
        "       'Kaprodi2' : {'Warek2','Dosen D','Dosen E'},\n",
        "       'Dosen D' : {'Kaprodi2'},\n",
        "       'Dosen E' : {'Kaprodi2'},\n",
        "       'Kaprodi3' : {'Warek2','Dosen F','Dosen G'},\n",
        "       'Dosen F': {'Kaprodi3'},\n",
        "       'Dosen G' : {'Kaprodi3'}}"
      ],
      "metadata": {
        "id": "pgL7lP6SHT74"
      },
      "execution_count": 6,
      "outputs": []
    },
    {
      "cell_type": "code",
      "source": [
        "bfs(graph, 'Rektor')"
      ],
      "metadata": {
        "colab": {
          "base_uri": "https://localhost:8080/"
        },
        "id": "kwut6xj4HboC",
        "outputId": "9e42bb8a-f19f-425d-8a30-d1e24184fa7d"
      },
      "execution_count": 7,
      "outputs": [
        {
          "output_type": "execute_result",
          "data": {
            "text/plain": [
              "['Rektor',\n",
              " 'Warek2',\n",
              " 'Warek1',\n",
              " 'Kaprodi2',\n",
              " 'Kaprodi1',\n",
              " 'Kaprodi3',\n",
              " 'Dosen E',\n",
              " 'Dosen D',\n",
              " 'Dosen A',\n",
              " 'Dosen B',\n",
              " 'Dosen C',\n",
              " 'Dosen F',\n",
              " 'Dosen G']"
            ]
          },
          "metadata": {},
          "execution_count": 7
        }
      ]
    },
    {
      "cell_type": "code",
      "source": [
        "bfs(graph, 'Dosen B')"
      ],
      "metadata": {
        "colab": {
          "base_uri": "https://localhost:8080/"
        },
        "id": "Git3Qk8TMORA",
        "outputId": "b721e7a3-84b1-4756-80f2-8e833127eff7"
      },
      "execution_count": 8,
      "outputs": [
        {
          "output_type": "execute_result",
          "data": {
            "text/plain": [
              "['Dosen B',\n",
              " 'Kaprodi1',\n",
              " 'Warek2',\n",
              " 'Dosen A',\n",
              " 'Dosen C',\n",
              " 'Rektor',\n",
              " 'Kaprodi2',\n",
              " 'Kaprodi3',\n",
              " 'Warek1',\n",
              " 'Dosen E',\n",
              " 'Dosen D',\n",
              " 'Dosen F',\n",
              " 'Dosen G']"
            ]
          },
          "metadata": {},
          "execution_count": 8
        }
      ]
    },
    {
      "cell_type": "code",
      "source": [
        "bfs(graph, 'Kaprodi2')"
      ],
      "metadata": {
        "colab": {
          "base_uri": "https://localhost:8080/"
        },
        "id": "ZLc5zdLLPza9",
        "outputId": "4321ef8b-f32e-4020-abe3-47de13ca9ba4"
      },
      "execution_count": 9,
      "outputs": [
        {
          "output_type": "execute_result",
          "data": {
            "text/plain": [
              "['Kaprodi2',\n",
              " 'Warek2',\n",
              " 'Dosen E',\n",
              " 'Dosen D',\n",
              " 'Rektor',\n",
              " 'Kaprodi1',\n",
              " 'Kaprodi3',\n",
              " 'Warek1',\n",
              " 'Dosen A',\n",
              " 'Dosen B',\n",
              " 'Dosen C',\n",
              " 'Dosen F',\n",
              " 'Dosen G']"
            ]
          },
          "metadata": {},
          "execution_count": 9
        }
      ]
    },
    {
      "cell_type": "markdown",
      "source": [
        "**IMPLEMENTASI ALGORITMA DEPTH FIRST SEARCH**"
      ],
      "metadata": {
        "id": "M_-ndEWQKbSE"
      }
    },
    {
      "cell_type": "markdown",
      "source": [
        "**(DEPT ITU MELAKUKAN LEVEL KEBAWAH)**"
      ],
      "metadata": {
        "id": "ci6fY_eOSrTa"
      }
    },
    {
      "cell_type": "code",
      "source": [
        "def dfs(graph, start, visited=None):\n",
        "  if visited is None:\n",
        "    visited = set()\n",
        "  visited.add(start)\n",
        "  print(start)\n",
        "  for next in graph[start] - visited:\n",
        "    dfs(graph, next, visited)\n",
        "  return visited"
      ],
      "metadata": {
        "id": "wV5x-dcCKjU7"
      },
      "execution_count": 10,
      "outputs": []
    },
    {
      "cell_type": "code",
      "source": [
        "graph={ 'Amin' : {'Wasim', 'Nick', 'Mike'},\n",
        "       'Wasim' : {'Imran', 'Amin'},\n",
        "       'Imran' : {'Wasim','Faras'},\n",
        "       'Faras' : {'Imran'},\n",
        "       'Mike' : {'Amin'},\n",
        "       'Nick' : {'Amin'}}"
      ],
      "metadata": {
        "id": "PGlr0QlSKpre"
      },
      "execution_count": 11,
      "outputs": []
    },
    {
      "cell_type": "code",
      "source": [
        "#O Amin -----------\n",
        "#|        |       |\n",
        "#O Wasim  O Nick  O Mike\n",
        "#|\n",
        "#O Imran\n",
        "#|\n",
        "#O Faras\n",
        "\n",
        "dfs(graph, 'Amin')"
      ],
      "metadata": {
        "colab": {
          "base_uri": "https://localhost:8080/"
        },
        "id": "YfNYyns6Slfa",
        "outputId": "ebae23be-2f0b-4d1a-fd52-9c371f70e55c"
      },
      "execution_count": 12,
      "outputs": [
        {
          "output_type": "stream",
          "name": "stdout",
          "text": [
            "Amin\n",
            "Wasim\n",
            "Imran\n",
            "Faras\n",
            "Nick\n",
            "Mike\n"
          ]
        },
        {
          "output_type": "execute_result",
          "data": {
            "text/plain": [
              "{'Amin', 'Faras', 'Imran', 'Mike', 'Nick', 'Wasim'}"
            ]
          },
          "metadata": {},
          "execution_count": 12
        }
      ]
    },
    {
      "cell_type": "code",
      "source": [
        "#O Wasim-------\n",
        "#|            |\n",
        "#O Imran      O Amin-----\n",
        "#|            |         |\n",
        "#O Faras      O Nick    O Mike\n",
        "\n",
        "dfs(graph,'Wasim')"
      ],
      "metadata": {
        "colab": {
          "base_uri": "https://localhost:8080/"
        },
        "id": "_Oy-mD5aTREi",
        "outputId": "13866326-92dc-472e-db24-5ea26cbdd878"
      },
      "execution_count": 13,
      "outputs": [
        {
          "output_type": "stream",
          "name": "stdout",
          "text": [
            "Wasim\n",
            "Imran\n",
            "Faras\n",
            "Amin\n",
            "Nick\n",
            "Mike\n"
          ]
        },
        {
          "output_type": "execute_result",
          "data": {
            "text/plain": [
              "{'Amin', 'Faras', 'Imran', 'Mike', 'Nick', 'Wasim'}"
            ]
          },
          "metadata": {},
          "execution_count": 13
        }
      ]
    },
    {
      "cell_type": "code",
      "source": [
        "#O Faras\n",
        "#|\n",
        "#O Imran\n",
        "#|\n",
        "#O Wasim  O Nick  O Mike\n",
        "#|        |       |\n",
        "#O Amin------------\n",
        "\n",
        "dfs(graph, 'Faras')"
      ],
      "metadata": {
        "colab": {
          "base_uri": "https://localhost:8080/"
        },
        "id": "L3CLX3lhTd2s",
        "outputId": "861fbf9d-8d83-4bb9-a951-34773676d22b"
      },
      "execution_count": 14,
      "outputs": [
        {
          "output_type": "stream",
          "name": "stdout",
          "text": [
            "Faras\n",
            "Imran\n",
            "Wasim\n",
            "Amin\n",
            "Nick\n",
            "Mike\n"
          ]
        },
        {
          "output_type": "execute_result",
          "data": {
            "text/plain": [
              "{'Amin', 'Faras', 'Imran', 'Mike', 'Nick', 'Wasim'}"
            ]
          },
          "metadata": {},
          "execution_count": 14
        }
      ]
    },
    {
      "cell_type": "code",
      "source": [
        "#O Nick------\n",
        "#|          |\n",
        "#O Amin     O Mike\n",
        "#|\n",
        "#O Wasim    \n",
        "#|\n",
        "#O Imran\n",
        "#|\n",
        "#O Faras\n",
        "\n",
        "dfs(graph, 'Nick')"
      ],
      "metadata": {
        "colab": {
          "base_uri": "https://localhost:8080/"
        },
        "id": "twZIuJL6Tiri",
        "outputId": "c439543d-9e33-4617-d6b2-b00e232256e4"
      },
      "execution_count": 15,
      "outputs": [
        {
          "output_type": "stream",
          "name": "stdout",
          "text": [
            "Nick\n",
            "Amin\n",
            "Wasim\n",
            "Imran\n",
            "Faras\n",
            "Mike\n"
          ]
        },
        {
          "output_type": "execute_result",
          "data": {
            "text/plain": [
              "{'Amin', 'Faras', 'Imran', 'Mike', 'Nick', 'Wasim'}"
            ]
          },
          "metadata": {},
          "execution_count": 15
        }
      ]
    },
    {
      "cell_type": "markdown",
      "source": [
        "**LATIHAN 2**"
      ],
      "metadata": {
        "id": "f2pIEo20T3Ai"
      }
    },
    {
      "cell_type": "code",
      "source": [
        "graph={'Rektor' : {'Warek1', 'Warek2'},\n",
        "       'Warek1' : {'Rektor'},\n",
        "       'Warek2' : {'Rektor','Kaprodi1', 'Kaprodi2','Kaprodi3'},\n",
        "       'Kaprodi1' : {'Warek2','Dosen A','Dosen B','Dosen C'},\n",
        "       'Dosen A' : {'Kaprodi1'},\n",
        "       'Dosen B' : {'Kaprodi1'},\n",
        "       'Dosen C' : {'Kaprodi1'},\n",
        "       'Kaprodi2' : {'Warek2','Dosen D','Dosen E'},\n",
        "       'Dosen D' : {'Kaprodi2'},\n",
        "       'Dosen E' : {'Kaprodi2'},\n",
        "       'Kaprodi3' : {'Warek2','Dosen F','Dosen G'},\n",
        "       'Dosen F': {'Kaprodi3'},\n",
        "       'Dosen G' : {'Kaprodi3'}}\n",
        "\n",
        "dfs(graph, 'Rektor')"
      ],
      "metadata": {
        "colab": {
          "base_uri": "https://localhost:8080/"
        },
        "id": "HuRjivqvUC2h",
        "outputId": "3febd400-30a6-4950-fab3-6ce597fb9631"
      },
      "execution_count": 16,
      "outputs": [
        {
          "output_type": "stream",
          "name": "stdout",
          "text": [
            "Rektor\n",
            "Warek2\n",
            "Kaprodi3\n",
            "Dosen F\n",
            "Dosen G\n",
            "Kaprodi2\n",
            "Dosen E\n",
            "Dosen D\n",
            "Kaprodi1\n",
            "Dosen B\n",
            "Dosen A\n",
            "Dosen C\n",
            "Warek1\n"
          ]
        },
        {
          "output_type": "execute_result",
          "data": {
            "text/plain": [
              "{'Dosen A',\n",
              " 'Dosen B',\n",
              " 'Dosen C',\n",
              " 'Dosen D',\n",
              " 'Dosen E',\n",
              " 'Dosen F',\n",
              " 'Dosen G',\n",
              " 'Kaprodi1',\n",
              " 'Kaprodi2',\n",
              " 'Kaprodi3',\n",
              " 'Rektor',\n",
              " 'Warek1',\n",
              " 'Warek2'}"
            ]
          },
          "metadata": {},
          "execution_count": 16
        }
      ]
    }
  ]
}