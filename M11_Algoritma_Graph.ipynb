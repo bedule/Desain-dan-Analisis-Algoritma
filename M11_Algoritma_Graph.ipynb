{
  "nbformat": 4,
  "nbformat_minor": 0,
  "metadata": {
    "colab": {
      "provenance": [],
      "collapsed_sections": [],
      "authorship_tag": "ABX9TyOZ8PJwb9ItmJWi8iZ65kcM",
      "include_colab_link": true
    },
    "kernelspec": {
      "name": "python3",
      "display_name": "Python 3"
    },
    "language_info": {
      "name": "python"
    }
  },
  "cells": [
    {
      "cell_type": "markdown",
      "metadata": {
        "id": "view-in-github",
        "colab_type": "text"
      },
      "source": [
        "<a href=\"https://colab.research.google.com/github/bedule/Desain-dan-Analisis-Algoritma/blob/main/M11_Algoritma_Graph.ipynb\" target=\"_parent\"><img src=\"https://colab.research.google.com/assets/colab-badge.svg\" alt=\"Open In Colab\"/></a>"
      ]
    },
    {
      "cell_type": "markdown",
      "source": [
        "MEMBUAT GRAPH DENGAN ELEMEN V = {A,B,C,D,E} E = {AB,AC,BD,CD,DE}"
      ],
      "metadata": {
        "id": "osNrB2lbBHUx"
      }
    },
    {
      "cell_type": "code",
      "source": [
        "# a ----- b\n",
        "# |       |\n",
        "# |       |\n",
        "# c ----- d ----- e"
      ],
      "metadata": {
        "id": "hzmA6TOQ2iTl"
      },
      "execution_count": 26,
      "outputs": []
    },
    {
      "cell_type": "code",
      "execution_count": 27,
      "metadata": {
        "colab": {
          "base_uri": "https://localhost:8080/"
        },
        "id": "z13hCnq204cI",
        "outputId": "8fdb2745-1f97-42b6-acd1-c76d8c5afbc4"
      },
      "outputs": [
        {
          "output_type": "stream",
          "name": "stdout",
          "text": [
            "{'a': ['b', 'c'], 'b': ['a', 'd'], 'c': ['a', 'd'], 'd': ['e'], 'e': ['d']}\n"
          ]
        }
      ],
      "source": [
        "#create the dictionary with graph element\n",
        "#buat kamus dengan elemen grafik\n",
        "graph = {\"a\" : [\"b\",\"c\"],\n",
        "         \"b\" : [\"a\",\"d\"],\n",
        "         \"c\" : [\"a\",\"d\"],\n",
        "         \"d\" : [\"e\"],\n",
        "         \"e\" : [\"d\"]\n",
        "         }\n",
        "#Print the graph\n",
        "#Cetak grafiknya\n",
        "print(graph)"
      ]
    },
    {
      "cell_type": "markdown",
      "source": [
        "**LATIHAN 1**"
      ],
      "metadata": {
        "id": "vFIeIQ7U3CZY"
      }
    },
    {
      "cell_type": "code",
      "source": [
        "graph = {\"T\" : [\"U\",\"W\"],\n",
        "         \"U\" : [\"T\",\"V\"],\n",
        "         \"V\" : [\"U\",\"X\"],\n",
        "         \"W\" : [\"T\",\"X\",\"Z\"],\n",
        "         \"X\" : [\"V\",\"W\",\"S\"],\n",
        "         \"Z\" : [\"W\"],\n",
        "         \"S\" : [\"X\"]\n",
        "         }\n",
        "\n",
        "print(graph)"
      ],
      "metadata": {
        "colab": {
          "base_uri": "https://localhost:8080/"
        },
        "id": "rTMia-EQ21pD",
        "outputId": "5d9101e5-0199-492b-8e6b-39bf22ad68e5"
      },
      "execution_count": 28,
      "outputs": [
        {
          "output_type": "stream",
          "name": "stdout",
          "text": [
            "{'T': ['U', 'W'], 'U': ['T', 'V'], 'V': ['U', 'X'], 'W': ['T', 'X', 'Z'], 'X': ['V', 'W', 'S'], 'Z': ['W'], 'S': ['X']}\n"
          ]
        }
      ]
    },
    {
      "cell_type": "markdown",
      "source": [
        "**LATIHAN 2**"
      ],
      "metadata": {
        "id": "kn9KL6HI3L7V"
      }
    },
    {
      "cell_type": "code",
      "source": [
        "#R-----O-----M\n",
        "#|     |     |\n",
        "#L-----P-----N\n",
        "\n",
        "graph = {\"R\" : [\"O\",\"L\"],\n",
        "         \"O\" : [\"R\",\"M\",\"P\"],\n",
        "         \"M\" : [\"O\",\"N\"],\n",
        "         \"L\" : [\"R\",\"P\"],\n",
        "         \"P\" : [\"L\",\"O\",\"N\"],\n",
        "         \"N\" : [\"M\",\"P\"]\n",
        "         }\n",
        "\n",
        "print(graph)"
      ],
      "metadata": {
        "colab": {
          "base_uri": "https://localhost:8080/"
        },
        "id": "AAPRm1DW3A3o",
        "outputId": "f2513172-bec8-44a5-9f1d-0b4c0657c84b"
      },
      "execution_count": 29,
      "outputs": [
        {
          "output_type": "stream",
          "name": "stdout",
          "text": [
            "{'R': ['O', 'L'], 'O': ['R', 'M', 'P'], 'M': ['O', 'N'], 'L': ['R', 'P'], 'P': ['L', 'O', 'N'], 'N': ['M', 'P']}\n"
          ]
        }
      ]
    },
    {
      "cell_type": "markdown",
      "source": [
        "**MENAMPILKAN SIMPUL PADA GRAPH**"
      ],
      "metadata": {
        "id": "SteTvMiM6oGP"
      }
    },
    {
      "cell_type": "code",
      "source": [
        "class graph:\n",
        "  def __init__(self,gdict=None):\n",
        "    if gdict is None:\n",
        "      gdict = []\n",
        "    self.gdict = gdict\n",
        "\n",
        "  def getVertices(self):\n",
        "    return list(self.gdict.keys())\n",
        "\n",
        "graph_elements = { \"a\" : [\"b\",\"c\"],\n",
        "                   \"b\" : [\"a\",\"d\"],\n",
        "                   \"c\" : [\"a\",\"d\"],\n",
        "                   \"d\" : [\"e\"],\n",
        "                   \"e\" : [\"d\"]\n",
        "                   }\n",
        "g = graph(graph_elements)\n",
        "\n",
        "print(g.getVertices())"
      ],
      "metadata": {
        "colab": {
          "base_uri": "https://localhost:8080/"
        },
        "id": "bBjNWcuS3VW8",
        "outputId": "923d4402-7edb-4ebc-b089-31ba7fd4d755"
      },
      "execution_count": 30,
      "outputs": [
        {
          "output_type": "stream",
          "name": "stdout",
          "text": [
            "['a', 'b', 'c', 'd', 'e']\n"
          ]
        }
      ]
    },
    {
      "cell_type": "markdown",
      "source": [
        "**LATIHAN 1**"
      ],
      "metadata": {
        "id": "_B_WjFua6Wvg"
      }
    },
    {
      "cell_type": "code",
      "source": [
        "class graph:\n",
        "  def __init__(self,gdict=None):\n",
        "    if gdict is None:\n",
        "      gdict = []\n",
        "    self.gdict = gdict\n",
        "\n",
        "  def getVertices(self):\n",
        "    return list(self.gdict.keys())\n",
        "\n",
        "graph_elements ={\"T\" : [\"U\",\"W\"],\n",
        "                 \"U\" : [\"T\",\"V\"],\n",
        "                 \"V\" : [\"U\",\"X\"],\n",
        "                 \"W\" : [\"T\",\"X\",\"Z\"],\n",
        "                 \"X\" : [\"V\",\"W\",\"S\"],\n",
        "                 \"Z\" : [\"W\"],\n",
        "                 \"S\" : [\"X\"]\n",
        "                 }\n",
        "g = graph(graph_elements)\n",
        "\n",
        "print(g.getVertices())"
      ],
      "metadata": {
        "colab": {
          "base_uri": "https://localhost:8080/"
        },
        "id": "DQY2nuBz6cfw",
        "outputId": "c170a576-e1cb-4f1f-eefd-3ed18a18141a"
      },
      "execution_count": 31,
      "outputs": [
        {
          "output_type": "stream",
          "name": "stdout",
          "text": [
            "['T', 'U', 'V', 'W', 'X', 'Z', 'S']\n"
          ]
        }
      ]
    },
    {
      "cell_type": "markdown",
      "source": [
        "**LATIHAN 2**"
      ],
      "metadata": {
        "id": "8q-xJPpw6-qy"
      }
    },
    {
      "cell_type": "code",
      "source": [
        "class graph:\n",
        "  def __init__(self,gdict=None):\n",
        "    if gdict is None:\n",
        "      gdict = []\n",
        "    self.gdict = gdict\n",
        "\n",
        "  def getVertices(self):\n",
        "    return list(self.gdict.keys())\n",
        "\n",
        "graph_elements ={\"R\" : [\"O\",\"L\"],\n",
        "                 \"O\" : [\"R\",\"M\",\"P\"],\n",
        "                 \"M\" : [\"O\",\"N\"],\n",
        "                 \"L\" : [\"R\",\"P\"],\n",
        "                 \"P\" : [\"L\",\"O\",\"N\"],\n",
        "                 \"N\" : [\"M\",\"P\"]\n",
        "                 }\n",
        "g = graph(graph_elements)\n",
        "\n",
        "print(g.getVertices())"
      ],
      "metadata": {
        "colab": {
          "base_uri": "https://localhost:8080/"
        },
        "id": "JuZ5tRJw6-W7",
        "outputId": "9db761af-6406-438a-aa7a-84061a04772a"
      },
      "execution_count": 32,
      "outputs": [
        {
          "output_type": "stream",
          "name": "stdout",
          "text": [
            "['R', 'O', 'M', 'L', 'P', 'N']\n"
          ]
        }
      ]
    },
    {
      "cell_type": "markdown",
      "source": [
        "**MENAMPILKAN SUDUT PADA GRAPH**"
      ],
      "metadata": {
        "id": "Y6pfXnO07EIw"
      }
    },
    {
      "cell_type": "code",
      "source": [
        "#a-----b\n",
        "#|     |\n",
        "#|     |\n",
        "#c-----d-----e\n",
        "\n",
        "class graph:\n",
        "  def __init__(self,gdict=None):\n",
        "    if gdict is None:\n",
        "      gdict = {}\n",
        "    self.gdict = gdict\n",
        "\n",
        "  def edges(self):\n",
        "    return self.findedges()\n",
        "\n",
        "  def findedges(self):\n",
        "    edgename = []\n",
        "    for vrtx in self.gdict:\n",
        "      for nxtvrtx in self.gdict[vrtx]:\n",
        "        if {nxtvrtx, vrtx} not in edgename:\n",
        "          edgename.append({vrtx, nxtvrtx})\n",
        "    return edgename\n",
        "\n",
        "#Create the dictionary with graph element\n",
        "#Buat kamus dengan elemen grafik\n",
        "graph_elements = { \"a\" : [\"b\",\"c\"],\n",
        "                   \"b\" : [\"a\",\"d\"],\n",
        "                   \"c\" : [\"a\",\"d\"],\n",
        "                   \"d\" : [\"e\"],\n",
        "                   \"e\" : [\"d\"]\n",
        "                   }\n",
        "g = graph(graph_elements)\n",
        "\n",
        "print(g.edges())"
      ],
      "metadata": {
        "colab": {
          "base_uri": "https://localhost:8080/"
        },
        "id": "j9vDikdg7I0G",
        "outputId": "9cc1ae4c-73da-409b-965b-746432a3338a"
      },
      "execution_count": 33,
      "outputs": [
        {
          "output_type": "stream",
          "name": "stdout",
          "text": [
            "[{'b', 'a'}, {'a', 'c'}, {'d', 'b'}, {'d', 'c'}, {'e', 'd'}]\n"
          ]
        }
      ]
    },
    {
      "cell_type": "markdown",
      "source": [
        "**LATIHAN 1**"
      ],
      "metadata": {
        "id": "epOQgsWU8pII"
      }
    },
    {
      "cell_type": "code",
      "source": [
        "graph_elements ={\"T\" : [\"U\",\"W\"],\n",
        "                 \"U\" : [\"T\",\"V\"],\n",
        "                 \"V\" : [\"U\",\"X\"],\n",
        "                 \"W\" : [\"T\",\"X\",\"Z\"],\n",
        "                 \"X\" : [\"V\",\"W\",\"S\"],\n",
        "                 \"Z\" : [\"W\"],\n",
        "                 \"S\" : [\"X\"]\n",
        "                 }\n",
        "g = graph(graph_elements)\n",
        "\n",
        "print(g.edges())"
      ],
      "metadata": {
        "colab": {
          "base_uri": "https://localhost:8080/"
        },
        "id": "cXCVTTEn8qsf",
        "outputId": "b0a3e8ec-0171-4d31-9e6c-875d71d8e9fa"
      },
      "execution_count": 34,
      "outputs": [
        {
          "output_type": "stream",
          "name": "stdout",
          "text": [
            "[{'T', 'U'}, {'T', 'W'}, {'U', 'V'}, {'X', 'V'}, {'X', 'W'}, {'W', 'Z'}, {'X', 'S'}]\n"
          ]
        }
      ]
    },
    {
      "cell_type": "markdown",
      "source": [
        "**LATIHAN 2**"
      ],
      "metadata": {
        "id": "Dg_hrI7F8wTn"
      }
    },
    {
      "cell_type": "code",
      "source": [
        "graph_elements ={\"R\" : [\"O\",\"L\"],\n",
        "                 \"O\" : [\"R\",\"M\",\"P\"],\n",
        "                 \"M\" : [\"O\",\"N\"],\n",
        "                 \"L\" : [\"R\",\"P\"],\n",
        "                 \"P\" : [\"L\",\"O\",\"N\"],\n",
        "                 \"N\" : [\"M\",\"P\"]\n",
        "                 }\n",
        "g = graph(graph_elements)\n",
        "\n",
        "print(g.edges())"
      ],
      "metadata": {
        "colab": {
          "base_uri": "https://localhost:8080/"
        },
        "id": "tJCIStqb8yhd",
        "outputId": "65cc52ee-7043-4e53-d2f4-66edb46849de"
      },
      "execution_count": 35,
      "outputs": [
        {
          "output_type": "stream",
          "name": "stdout",
          "text": [
            "[{'R', 'O'}, {'R', 'L'}, {'M', 'O'}, {'P', 'O'}, {'M', 'N'}, {'P', 'L'}, {'P', 'N'}]\n"
          ]
        }
      ]
    },
    {
      "cell_type": "markdown",
      "source": [
        "**MENAMBAHKAN VERTEX/SIMPUL**"
      ],
      "metadata": {
        "id": "BMvuOK0G89Bo"
      }
    },
    {
      "cell_type": "code",
      "source": [
        "class graph:\n",
        "  def __init__(self,gdict=None):\n",
        "    if gdict is None:\n",
        "      gdict = {}\n",
        "    self.gdict = gdict\n",
        "\n",
        "  def getVertices(self):\n",
        "    return list(self.gdict.keys())\n",
        "\n",
        "  def addVertex(self, vrtx):\n",
        "    if vrtx not in self.gdict:\n",
        "      self.gdict[vrtx] = []\n",
        "\n",
        "#Create the dictionary with graph element\n",
        "#Buat kamus dengan elemen grafik\n",
        "graph_elements =  {\"a\" : [\"b\",\"c\"],\n",
        "                   \"b\" : [\"a\",\"d\"],\n",
        "                   \"c\" : [\"a\",\"d\"],\n",
        "                   \"d\" : [\"e\"],\n",
        "                   \"e\" : [\"d\"]\n",
        "                   }\n",
        "g = graph(graph_elements)\n",
        "g.addVertex(\"f\")\n",
        "\n",
        "print(g.getVertices())"
      ],
      "metadata": {
        "colab": {
          "base_uri": "https://localhost:8080/"
        },
        "id": "V9nQwLWg9B0X",
        "outputId": "3cbb1698-9674-4525-bdc9-0b582ee4914b"
      },
      "execution_count": 36,
      "outputs": [
        {
          "output_type": "stream",
          "name": "stdout",
          "text": [
            "['a', 'b', 'c', 'd', 'e', 'f']\n"
          ]
        }
      ]
    },
    {
      "cell_type": "markdown",
      "source": [
        "**LATIHAN 1**"
      ],
      "metadata": {
        "id": "RXK3aU2_9eoo"
      }
    },
    {
      "cell_type": "code",
      "source": [
        "graph_elements = {\"T\" : [\"U\",\"W\"],\n",
        "                 \"U\" : [\"T\",\"V\"],\n",
        "                 \"V\" : [\"U\",\"X\"],\n",
        "                 \"W\" : [\"T\",\"X\",\"Z\"],\n",
        "                 \"X\" : [\"V\",\"W\",\"S\"],\n",
        "                 \"Z\" : [\"W\"],\n",
        "                 \"S\" : [\"X\"]\n",
        "                 }\n",
        "g = graph(graph_elements)\n",
        "g.addVertex(\"Q\")\n",
        "                 \n",
        "print(g.getVertices())"
      ],
      "metadata": {
        "colab": {
          "base_uri": "https://localhost:8080/"
        },
        "id": "snwZzZDS9h-M",
        "outputId": "36efe8e7-5d4b-4af0-e1e3-5636ad415ebe"
      },
      "execution_count": 37,
      "outputs": [
        {
          "output_type": "stream",
          "name": "stdout",
          "text": [
            "['T', 'U', 'V', 'W', 'X', 'Z', 'S', 'Q']\n"
          ]
        }
      ]
    },
    {
      "cell_type": "markdown",
      "source": [
        "**LATIHAN 2**"
      ],
      "metadata": {
        "id": "gLsWDvhv9UrE"
      }
    },
    {
      "cell_type": "code",
      "source": [
        "graph_elements ={\"R\" : [\"O\",\"L\"],\n",
        "                 \"O\" : [\"R\",\"M\",\"P\"],\n",
        "                 \"M\" : [\"O\",\"N\"],\n",
        "                 \"L\" : [\"R\",\"P\"],\n",
        "                 \"P\" : [\"L\",\"O\",\"N\"],\n",
        "                 \"N\" : [\"M\",\"P\"]\n",
        "                 }\n",
        "g = graph(graph_elements)\n",
        "g.addVertex(\"Q\")\n",
        "\n",
        "print(g.getVertices())"
      ],
      "metadata": {
        "colab": {
          "base_uri": "https://localhost:8080/"
        },
        "id": "-VzmM8ms9WV9",
        "outputId": "ffdd64a0-ee88-4ef0-85b2-ebd8ff428f1a"
      },
      "execution_count": 38,
      "outputs": [
        {
          "output_type": "stream",
          "name": "stdout",
          "text": [
            "['R', 'O', 'M', 'L', 'P', 'N', 'Q']\n"
          ]
        }
      ]
    },
    {
      "cell_type": "markdown",
      "source": [
        "**MENAMBAHKAN EDGE/SUDUT**"
      ],
      "metadata": {
        "id": "933KjIB6_Bol"
      }
    },
    {
      "cell_type": "code",
      "source": [
        "class graph:\n",
        "  def __init__(self,gdict=None):\n",
        "    if gdict is None:\n",
        "      gdict = {}\n",
        "    self.gdict = gdict\n",
        "\n",
        "  def edges(self):\n",
        "    return self.findedges()\n",
        "\n",
        "  def AddEdge(self, edge):\n",
        "    edge = set(edge)\n",
        "    (vrtx1, vrtx2) = tuple(edge)\n",
        "    if vrtx1 in self.gdict:\n",
        "      self.gdict[vrtx1].append(vrtx2)\n",
        "    else:\n",
        "      self.gdict[vrtx1] = [vrtx2]\n",
        "\n",
        "  def findedges(self):\n",
        "    edgename = []\n",
        "    for vrtx in self.gdict:\n",
        "      for nxtvrtx in self.gdict[vrtx]:\n",
        "        if {nxtvrtx, vrtx} not in edgename:\n",
        "          edgename.append({vrtx, nxtvrtx})\n",
        "    return edgename\n",
        "\n",
        "graph_elements =  {\"a\" : [\"b\",\"c\"],\n",
        "                   \"b\" : [\"a\",\"d\"],\n",
        "                   \"c\" : [\"a\",\"d\"],\n",
        "                   \"d\" : [\"e\"],\n",
        "                   \"e\" : [\"d\"]\n",
        "                   }\n",
        "\n",
        "g = graph(graph_elements)\n",
        "g.AddEdge({'a','e'})\n",
        "g.AddEdge({'a','c'})\n",
        "\n",
        "print(g.edges())"
      ],
      "metadata": {
        "colab": {
          "base_uri": "https://localhost:8080/"
        },
        "id": "sG-c4VQq_FoW",
        "outputId": "37926260-c2ed-45a3-8b0f-d31d0a30f65d"
      },
      "execution_count": 39,
      "outputs": [
        {
          "output_type": "stream",
          "name": "stdout",
          "text": [
            "[{'b', 'a'}, {'a', 'c'}, {'d', 'b'}, {'d', 'c'}, {'e', 'd'}, {'e', 'a'}]\n"
          ]
        }
      ]
    },
    {
      "cell_type": "markdown",
      "source": [
        "**LATIHAN 1**"
      ],
      "metadata": {
        "id": "86JJW-hNCKoj"
      }
    },
    {
      "cell_type": "code",
      "source": [
        "#MENAMBAHKAN SUDUT T KE Z DAN T DAN S\n",
        "graph_elements = {\"T\" : [\"U\",\"W\"],\n",
        "                 \"U\" : [\"T\",\"V\"],\n",
        "                 \"V\" : [\"U\",\"X\"],\n",
        "                 \"W\" : [\"T\",\"X\",\"Z\"],\n",
        "                 \"X\" : [\"V\",\"W\",\"S\"],\n",
        "                 \"Z\" : [\"W\"],\n",
        "                 \"S\" : [\"X\"]\n",
        "                 }\n",
        "g = graph(graph_elements)\n",
        "g.AddEdge({'T','Z'})\n",
        "g.AddEdge({'T','S'})\n",
        "print(g.edges())"
      ],
      "metadata": {
        "colab": {
          "base_uri": "https://localhost:8080/"
        },
        "id": "RmoMBxR_CMHF",
        "outputId": "0b9dbc84-98c1-48bd-c995-c93c5c42ceef"
      },
      "execution_count": 40,
      "outputs": [
        {
          "output_type": "stream",
          "name": "stdout",
          "text": [
            "[{'T', 'U'}, {'T', 'W'}, {'T', 'Z'}, {'T', 'S'}, {'U', 'V'}, {'X', 'V'}, {'X', 'W'}, {'W', 'Z'}, {'X', 'S'}]\n"
          ]
        }
      ]
    },
    {
      "cell_type": "markdown",
      "source": [
        "**LATIHAN 2**"
      ],
      "metadata": {
        "id": "-Qktown3DCb1"
      }
    },
    {
      "cell_type": "code",
      "source": [
        "#MENAMBAHKAN SUDUT R KE P DAN R DAN N\n",
        "graph_elements ={\"R\" : [\"O\",\"L\"],\n",
        "                 \"O\" : [\"R\",\"M\",\"P\"],\n",
        "                 \"M\" : [\"O\",\"N\"],\n",
        "                 \"L\" : [\"R\",\"P\"],\n",
        "                 \"P\" : [\"L\",\"O\",\"N\"],\n",
        "                 \"N\" : [\"M\",\"P\"]\n",
        "                 }\n",
        "g = graph(graph_elements)\n",
        "g.AddEdge({'R','P'})\n",
        "g.AddEdge({'R','N'})\n",
        "print(g.edges())"
      ],
      "metadata": {
        "colab": {
          "base_uri": "https://localhost:8080/"
        },
        "id": "qufq2NGDDD_2",
        "outputId": "7e08a3e7-35bd-4418-b0d3-55755e0e2a92"
      },
      "execution_count": 41,
      "outputs": [
        {
          "output_type": "stream",
          "name": "stdout",
          "text": [
            "[{'R', 'O'}, {'R', 'L'}, {'R', 'P'}, {'R', 'N'}, {'M', 'O'}, {'P', 'O'}, {'M', 'N'}, {'P', 'L'}, {'P', 'N'}]\n"
          ]
        }
      ]
    }
  ]
}