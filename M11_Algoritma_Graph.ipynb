{
  "nbformat": 4,
  "nbformat_minor": 0,
  "metadata": {
    "colab": {
      "provenance": [],
      "collapsed_sections": [],
      "authorship_tag": "ABX9TyNsEKTYLyz9whsORhdaz3B5",
      "include_colab_link": true
    },
    "kernelspec": {
      "name": "python3",
      "display_name": "Python 3"
    },
    "language_info": {
      "name": "python"
    }
  },
  "cells": [
    {
      "cell_type": "markdown",
      "metadata": {
        "id": "view-in-github",
        "colab_type": "text"
      },
      "source": [
        "<a href=\"https://colab.research.google.com/github/bedule/Desain-dan-Analisis-Algoritma/blob/main/M11_Algoritma_Graph.ipynb\" target=\"_parent\"><img src=\"https://colab.research.google.com/assets/colab-badge.svg\" alt=\"Open In Colab\"/></a>"
      ]
    },
    {
      "cell_type": "markdown",
      "source": [
        "MEMBUAT GRAPH DENGAN ELEMEN V = {A,B,C,D,E} E = {AB,AC,BD,CD,DE}"
      ],
      "metadata": {
        "id": "osNrB2lbBHUx"
      }
    },
    {
      "cell_type": "code",
      "source": [
        "# a ----- b\n",
        "# |       |\n",
        "# |       |\n",
        "# c ----- d ----- e"
      ],
      "metadata": {
        "id": "hzmA6TOQ2iTl"
      },
      "execution_count": 1,
      "outputs": []
    },
    {
      "cell_type": "code",
      "execution_count": 2,
      "metadata": {
        "colab": {
          "base_uri": "https://localhost:8080/"
        },
        "id": "z13hCnq204cI",
        "outputId": "f134a66c-0d79-42ec-f037-c853658c994b"
      },
      "outputs": [
        {
          "output_type": "stream",
          "name": "stdout",
          "text": [
            "{'a': ['b', 'c'], 'b': ['a', 'd'], 'c': ['a', 'd'], 'd': ['e'], 'e': ['d']}\n"
          ]
        }
      ],
      "source": [
        "#create the dictionary with graph element\n",
        "#buat kamus dengan elemen grafik\n",
        "graph = {\"a\" : [\"b\",\"c\"],\n",
        "         \"b\" : [\"a\",\"d\"],\n",
        "         \"c\" : [\"a\",\"d\"],\n",
        "         \"d\" : [\"e\"],\n",
        "         \"e\" : [\"d\"]\n",
        "         }\n",
        "#Print the graph\n",
        "#Cetak grafiknya\n",
        "print(graph)"
      ]
    },
    {
      "cell_type": "markdown",
      "source": [
        "**LATIHAN 1**"
      ],
      "metadata": {
        "id": "vFIeIQ7U3CZY"
      }
    },
    {
      "cell_type": "code",
      "source": [
        "graph = {\"T\" : [\"U\",\"W\"],\n",
        "         \"U\" : [\"T\",\"V\"],\n",
        "         \"V\" : [\"U\",\"X\"],\n",
        "         \"W\" : [\"T\",\"X\",\"Z\"],\n",
        "         \"X\" : [\"V\",\"W\",\"S\"],\n",
        "         \"Z\" : [\"W\"],\n",
        "         \"S\" : [\"X\"]\n",
        "         }\n",
        "\n",
        "print(graph)"
      ],
      "metadata": {
        "colab": {
          "base_uri": "https://localhost:8080/"
        },
        "id": "rTMia-EQ21pD",
        "outputId": "b771b890-e040-44a9-dd42-6dd3398e2198"
      },
      "execution_count": 3,
      "outputs": [
        {
          "output_type": "stream",
          "name": "stdout",
          "text": [
            "{'T': ['U', 'W'], 'U': ['T', 'V'], 'V': ['U', 'X'], 'W': ['T', 'X', 'Z'], 'X': ['V', 'W', 'S'], 'Z': ['W'], 'S': ['X']}\n"
          ]
        }
      ]
    },
    {
      "cell_type": "markdown",
      "source": [
        "**LATIHAN 2**"
      ],
      "metadata": {
        "id": "kn9KL6HI3L7V"
      }
    },
    {
      "cell_type": "code",
      "source": [
        "#R-----O-----M\n",
        "#|     |     |\n",
        "#L-----P-----N\n",
        "\n",
        "graph = {\"R\" : [\"O\",\"L\"],\n",
        "         \"O\" : [\"R\",\"M\",\"P\"],\n",
        "         \"M\" : [\"O\",\"N\"],\n",
        "         \"L\" : [\"R\",\"P\"],\n",
        "         \"P\" : [\"L\",\"O\",\"N\"],\n",
        "         \"N\" : [\"M\",\"P\"]\n",
        "         }\n",
        "\n",
        "print(graph)"
      ],
      "metadata": {
        "colab": {
          "base_uri": "https://localhost:8080/"
        },
        "id": "AAPRm1DW3A3o",
        "outputId": "d19b3384-17ec-430e-dd9e-745ced055df4"
      },
      "execution_count": 4,
      "outputs": [
        {
          "output_type": "stream",
          "name": "stdout",
          "text": [
            "{'R': ['O', 'L'], 'O': ['R', 'M', 'P'], 'M': ['O', 'N'], 'L': ['R', 'P'], 'P': ['L', 'O', 'N'], 'N': ['M', 'P']}\n"
          ]
        }
      ]
    },
    {
      "cell_type": "markdown",
      "source": [
        "**MENAMPILKAN SIMPUL PADA GRAPH**"
      ],
      "metadata": {
        "id": "SteTvMiM6oGP"
      }
    },
    {
      "cell_type": "code",
      "source": [
        "class graph:\n",
        "  def __init__(self,gdict=None):\n",
        "    if gdict is None:\n",
        "      gdict = []\n",
        "    self.gdict = gdict\n",
        "\n",
        "  def getVertices(self):\n",
        "    return list(self.gdict.keys())\n",
        "\n",
        "graph_elements = { \"a\" : [\"b\",\"c\"],\n",
        "                   \"b\" : [\"a\",\"d\"],\n",
        "                   \"c\" : [\"a\",\"d\"],\n",
        "                   \"d\" : [\"e\"],\n",
        "                   \"e\" : [\"d\"]\n",
        "                   }\n",
        "g = graph(graph_elements)\n",
        "\n",
        "print(g.getVertices())"
      ],
      "metadata": {
        "colab": {
          "base_uri": "https://localhost:8080/"
        },
        "id": "bBjNWcuS3VW8",
        "outputId": "c97d129b-0ebf-45fe-a7d7-457961a4afce"
      },
      "execution_count": 5,
      "outputs": [
        {
          "output_type": "stream",
          "name": "stdout",
          "text": [
            "['a', 'b', 'c', 'd', 'e']\n"
          ]
        }
      ]
    },
    {
      "cell_type": "markdown",
      "source": [
        "**LATIHAN 1**"
      ],
      "metadata": {
        "id": "_B_WjFua6Wvg"
      }
    },
    {
      "cell_type": "code",
      "source": [
        "class graph:\n",
        "  def __init__(self,gdict=None):\n",
        "    if gdict is None:\n",
        "      gdict = []\n",
        "    self.gdict = gdict\n",
        "\n",
        "  def getVertices(self):\n",
        "    return list(self.gdict.keys())\n",
        "\n",
        "graph_elements ={\"T\" : [\"U\",\"W\"],\n",
        "                 \"U\" : [\"T\",\"V\"],\n",
        "                 \"V\" : [\"U\",\"X\"],\n",
        "                 \"W\" : [\"T\",\"X\",\"Z\"],\n",
        "                 \"X\" : [\"V\",\"W\",\"S\"],\n",
        "                 \"Z\" : [\"W\"],\n",
        "                 \"S\" : [\"X\"]\n",
        "                 }\n",
        "g = graph(graph_elements)\n",
        "\n",
        "print(g.getVertices())"
      ],
      "metadata": {
        "colab": {
          "base_uri": "https://localhost:8080/"
        },
        "id": "DQY2nuBz6cfw",
        "outputId": "72d59b59-2e96-4795-f8d4-7886f8b66ec4"
      },
      "execution_count": 6,
      "outputs": [
        {
          "output_type": "stream",
          "name": "stdout",
          "text": [
            "['T', 'U', 'V', 'W', 'X', 'Z', 'S']\n"
          ]
        }
      ]
    },
    {
      "cell_type": "markdown",
      "source": [
        "**LATIHAN 2**"
      ],
      "metadata": {
        "id": "8q-xJPpw6-qy"
      }
    },
    {
      "cell_type": "code",
      "source": [
        "class graph:\n",
        "  def __init__(self,gdict=None):\n",
        "    if gdict is None:\n",
        "      gdict = []\n",
        "    self.gdict = gdict\n",
        "\n",
        "  def getVertices(self):\n",
        "    return list(self.gdict.keys())\n",
        "\n",
        "graph_elements ={\"R\" : [\"O\",\"L\"],\n",
        "                 \"O\" : [\"R\",\"M\",\"P\"],\n",
        "                 \"M\" : [\"O\",\"N\"],\n",
        "                 \"L\" : [\"R\",\"P\"],\n",
        "                 \"P\" : [\"L\",\"O\",\"N\"],\n",
        "                 \"N\" : [\"M\",\"P\"]\n",
        "                 }\n",
        "g = graph(graph_elements)\n",
        "\n",
        "print(g.getVertices())"
      ],
      "metadata": {
        "colab": {
          "base_uri": "https://localhost:8080/"
        },
        "id": "JuZ5tRJw6-W7",
        "outputId": "df9d87f9-322c-4e0a-9d9a-163e535326b9"
      },
      "execution_count": 7,
      "outputs": [
        {
          "output_type": "stream",
          "name": "stdout",
          "text": [
            "['R', 'O', 'M', 'L', 'P', 'N']\n"
          ]
        }
      ]
    },
    {
      "cell_type": "markdown",
      "source": [
        "**MENAMPILKAN SUDUT PADA GRAPH**"
      ],
      "metadata": {
        "id": "Y6pfXnO07EIw"
      }
    },
    {
      "cell_type": "code",
      "source": [
        "#a-----b\n",
        "#|     |\n",
        "#|     |\n",
        "#c-----d-----e\n",
        "\n",
        "class graph:\n",
        "  def __init__(self,gdict=None):\n",
        "    if gdict is None:\n",
        "      gdict = {}\n",
        "    self.gdict = gdict\n",
        "\n",
        "  def edges(self):\n",
        "    return self.findedges()\n",
        "\n",
        "  def findedges(self):\n",
        "    edgename = []\n",
        "    for vrtx in self.gdict:\n",
        "      for nxtvrtx in self.gdict[vrtx]:\n",
        "        if {nxtvrtx, vrtx} not in edgename:\n",
        "          edgename.append({vrtx, nxtvrtx})\n",
        "    return edgename\n",
        "\n",
        "#Create the dictionary with graph element\n",
        "#Buat kamus dengan elemen grafik\n",
        "graph_elements = { \"a\" : [\"b\",\"c\"],\n",
        "                   \"b\" : [\"a\",\"d\"],\n",
        "                   \"c\" : [\"a\",\"d\"],\n",
        "                   \"d\" : [\"e\"],\n",
        "                   \"e\" : [\"d\"]\n",
        "                   }\n",
        "g = graph(graph_elements)\n",
        "\n",
        "print(g.edges())"
      ],
      "metadata": {
        "colab": {
          "base_uri": "https://localhost:8080/"
        },
        "id": "j9vDikdg7I0G",
        "outputId": "8d222e8c-fbb4-4a27-fb8b-7c6ed0fb39ac"
      },
      "execution_count": 8,
      "outputs": [
        {
          "output_type": "stream",
          "name": "stdout",
          "text": [
            "[{'b', 'a'}, {'a', 'c'}, {'d', 'b'}, {'d', 'c'}, {'e', 'd'}]\n"
          ]
        }
      ]
    },
    {
      "cell_type": "markdown",
      "source": [
        "**LATIHAN 1**"
      ],
      "metadata": {
        "id": "epOQgsWU8pII"
      }
    },
    {
      "cell_type": "code",
      "source": [
        "graph_elements ={\"T\" : [\"U\",\"W\"],\n",
        "                 \"U\" : [\"T\",\"V\"],\n",
        "                 \"V\" : [\"U\",\"X\"],\n",
        "                 \"W\" : [\"T\",\"X\",\"Z\"],\n",
        "                 \"X\" : [\"V\",\"W\",\"S\"],\n",
        "                 \"Z\" : [\"W\"],\n",
        "                 \"S\" : [\"X\"]\n",
        "                 }\n",
        "g = graph(graph_elements)\n",
        "\n",
        "print(g.edges())"
      ],
      "metadata": {
        "colab": {
          "base_uri": "https://localhost:8080/"
        },
        "id": "cXCVTTEn8qsf",
        "outputId": "c8f8d1de-9d24-42fd-cce7-9a23510c2eda"
      },
      "execution_count": 9,
      "outputs": [
        {
          "output_type": "stream",
          "name": "stdout",
          "text": [
            "[{'T', 'U'}, {'T', 'W'}, {'U', 'V'}, {'X', 'V'}, {'X', 'W'}, {'W', 'Z'}, {'X', 'S'}]\n"
          ]
        }
      ]
    },
    {
      "cell_type": "markdown",
      "source": [
        "**LATIHAN 2**"
      ],
      "metadata": {
        "id": "Dg_hrI7F8wTn"
      }
    },
    {
      "cell_type": "code",
      "source": [
        "graph_elements ={\"R\" : [\"O\",\"L\"],\n",
        "                 \"O\" : [\"R\",\"M\",\"P\"],\n",
        "                 \"M\" : [\"O\",\"N\"],\n",
        "                 \"L\" : [\"R\",\"P\"],\n",
        "                 \"P\" : [\"L\",\"O\",\"N\"],\n",
        "                 \"N\" : [\"M\",\"P\"]\n",
        "                 }\n",
        "g = graph(graph_elements)\n",
        "\n",
        "print(g.edges())"
      ],
      "metadata": {
        "colab": {
          "base_uri": "https://localhost:8080/"
        },
        "id": "tJCIStqb8yhd",
        "outputId": "e6b5b5aa-ef9e-474e-dec0-337636cec321"
      },
      "execution_count": 10,
      "outputs": [
        {
          "output_type": "stream",
          "name": "stdout",
          "text": [
            "[{'R', 'O'}, {'R', 'L'}, {'M', 'O'}, {'P', 'O'}, {'M', 'N'}, {'P', 'L'}, {'P', 'N'}]\n"
          ]
        }
      ]
    },
    {
      "cell_type": "markdown",
      "source": [
        "**MENAMBAHKAN VERTEX/SIMPUL**"
      ],
      "metadata": {
        "id": "BMvuOK0G89Bo"
      }
    },
    {
      "cell_type": "code",
      "source": [
        "class graph:\n",
        "  def __init__(self,gdict=None):\n",
        "    if gdict is None:\n",
        "      gdict = {}\n",
        "    self.gdict = gdict\n",
        "\n",
        "  def getVertices(self):\n",
        "    return list(self.gdict.keys())\n",
        "\n",
        "  def addVertex(self, vrtx):\n",
        "    if vrtx not in self.gdict:\n",
        "      self.gdict[vrtx] = []\n",
        "\n",
        "#Create the dictionary with graph element\n",
        "#Buat kamus dengan elemen grafik\n",
        "graph_elements =  {\"a\" : [\"b\",\"c\"],\n",
        "                   \"b\" : [\"a\",\"d\"],\n",
        "                   \"c\" : [\"a\",\"d\"],\n",
        "                   \"d\" : [\"e\"],\n",
        "                   \"e\" : [\"d\"]\n",
        "                   }\n",
        "g = graph(graph_elements)\n",
        "g.addVertex(\"f\")\n",
        "\n",
        "print(g.getVertices())"
      ],
      "metadata": {
        "colab": {
          "base_uri": "https://localhost:8080/"
        },
        "id": "V9nQwLWg9B0X",
        "outputId": "30be773f-a8a9-4aae-ab60-74158ceb2f35"
      },
      "execution_count": 11,
      "outputs": [
        {
          "output_type": "stream",
          "name": "stdout",
          "text": [
            "['a', 'b', 'c', 'd', 'e', 'f']\n"
          ]
        }
      ]
    },
    {
      "cell_type": "markdown",
      "source": [
        "**LATIHAN 1**"
      ],
      "metadata": {
        "id": "RXK3aU2_9eoo"
      }
    },
    {
      "cell_type": "code",
      "source": [
        "graph_elements = {\"T\" : [\"U\",\"W\"],\n",
        "                 \"U\" : [\"T\",\"V\"],\n",
        "                 \"V\" : [\"U\",\"X\"],\n",
        "                 \"W\" : [\"T\",\"X\",\"Z\"],\n",
        "                 \"X\" : [\"V\",\"W\",\"S\"],\n",
        "                 \"Z\" : [\"W\"],\n",
        "                 \"S\" : [\"X\"]\n",
        "                 }\n",
        "g = graph(graph_elements)\n",
        "g.addVertex(\"Q\")\n",
        "                 \n",
        "print(g.getVertices())"
      ],
      "metadata": {
        "colab": {
          "base_uri": "https://localhost:8080/"
        },
        "id": "snwZzZDS9h-M",
        "outputId": "6276ab62-fd0a-4a7f-aa70-6dc084d61048"
      },
      "execution_count": 20,
      "outputs": [
        {
          "output_type": "stream",
          "name": "stdout",
          "text": [
            "['T', 'U', 'V', 'W', 'X', 'Z', 'S', 'Q']\n"
          ]
        }
      ]
    },
    {
      "cell_type": "markdown",
      "source": [
        "**LATIHAN 2**"
      ],
      "metadata": {
        "id": "gLsWDvhv9UrE"
      }
    },
    {
      "cell_type": "code",
      "source": [
        "graph_elements ={\"R\" : [\"O\",\"L\"],\n",
        "                 \"O\" : [\"R\",\"M\",\"P\"],\n",
        "                 \"M\" : [\"O\",\"N\"],\n",
        "                 \"L\" : [\"R\",\"P\"],\n",
        "                 \"P\" : [\"L\",\"O\",\"N\"],\n",
        "                 \"N\" : [\"M\",\"P\"]\n",
        "                 }\n",
        "g = graph(graph_elements)\n",
        "g.addVertex(\"Q\")\n",
        "\n",
        "print(g.getVertices())"
      ],
      "metadata": {
        "colab": {
          "base_uri": "https://localhost:8080/"
        },
        "id": "-VzmM8ms9WV9",
        "outputId": "b6c64b4d-a3db-4653-d12a-e573ce449c5b"
      },
      "execution_count": 13,
      "outputs": [
        {
          "output_type": "stream",
          "name": "stdout",
          "text": [
            "['R', 'O', 'M', 'L', 'P', 'N', 'Q']\n"
          ]
        }
      ]
    },
    {
      "cell_type": "markdown",
      "source": [
        "**MENAMBAHKAN EDGE/SUDUT**"
      ],
      "metadata": {
        "id": "933KjIB6_Bol"
      }
    },
    {
      "cell_type": "code",
      "source": [
        "class graph:\n",
        "  def __init__(self,gdict=None):\n",
        "    if gdict is None:\n",
        "      gdict = {}\n",
        "    self.gdict = gdict\n",
        "\n",
        "  def edges(self):\n",
        "    return self.findedges()\n",
        "\n",
        "  def AddEdge(self, edge):\n",
        "    edge = set(edge)\n",
        "    (vrtx1, vrtx2) = tuple(edge)\n",
        "    if vrtx1 in self.gdict:\n",
        "      self.gdict[vrtx1].append(vrtx2)\n",
        "    else:\n",
        "      self.gdict[vrtx1] = [vrtx2]\n",
        "\n",
        "  def findedges(self):\n",
        "    edgename = []\n",
        "    for vrtx in self.gdict:\n",
        "      for nxtvrtx in self.gdict[vrtx]:\n",
        "        if {nxtvrtx, vrtx} not in edgename:\n",
        "          edgename.append({vrtx, nxtvrtx})\n",
        "    return edgename\n",
        "\n",
        "graph_elements =  {\"a\" : [\"b\",\"c\"],\n",
        "                   \"b\" : [\"a\",\"d\"],\n",
        "                   \"c\" : [\"a\",\"d\"],\n",
        "                   \"d\" : [\"e\"],\n",
        "                   \"e\" : [\"d\"]\n",
        "                   }\n",
        "\n",
        "g = graph(graph_elements)\n",
        "g.AddEdge({'a','e'})\n",
        "g.AddEdge({'a','c'})\n",
        "\n",
        "print(g.edges())"
      ],
      "metadata": {
        "colab": {
          "base_uri": "https://localhost:8080/"
        },
        "id": "sG-c4VQq_FoW",
        "outputId": "c3a9aab5-9cb8-42ad-bb92-2da0f27a42b3"
      },
      "execution_count": 21,
      "outputs": [
        {
          "output_type": "stream",
          "name": "stdout",
          "text": [
            "[{'b', 'a'}, {'a', 'c'}, {'d', 'b'}, {'d', 'c'}, {'e', 'd'}, {'e', 'a'}]\n"
          ]
        }
      ]
    }
  ]
}