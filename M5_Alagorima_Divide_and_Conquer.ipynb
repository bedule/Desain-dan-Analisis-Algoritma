{
  "nbformat": 4,
  "nbformat_minor": 0,
  "metadata": {
    "colab": {
      "provenance": [],
      "collapsed_sections": [],
      "authorship_tag": "ABX9TyMuNHXNBSwQYZDdnxMZrwum",
      "include_colab_link": true
    },
    "kernelspec": {
      "name": "python3",
      "display_name": "Python 3"
    },
    "language_info": {
      "name": "python"
    }
  },
  "cells": [
    {
      "cell_type": "markdown",
      "metadata": {
        "id": "view-in-github",
        "colab_type": "text"
      },
      "source": [
        "<a href=\"https://colab.research.google.com/github/bedule/Desain-dan-Analisis-Algoritma/blob/main/M5_Alagorima_Divide_and_Conquer.ipynb\" target=\"_parent\"><img src=\"https://colab.research.google.com/assets/colab-badge.svg\" alt=\"Open In Colab\"/></a>"
      ]
    },
    {
      "cell_type": "code",
      "execution_count": 39,
      "metadata": {
        "id": "DWIfKyU_-6pO"
      },
      "outputs": [],
      "source": [
        "# HITUNG INEVERSI DENGAN DIVIDE DAN CONQUER\n",
        "def countInversion(arr):\n",
        "  result = 0\n",
        "  for i in range(len(arr)):\n",
        "    for j in range (i+1, len(arr)):\n",
        "      if arr[i] > arr[j]:\n",
        "        result += 1\n",
        "  return result"
      ]
    },
    {
      "cell_type": "code",
      "source": [
        "from IPython.core.interactiveshell import ListType\n",
        "arr = [21, 70, 36, 14, 25]\n",
        "#INI ADALAH ARRAY LIST"
      ],
      "metadata": {
        "id": "iYr_nSue_Ktr"
      },
      "execution_count": 40,
      "outputs": []
    },
    {
      "cell_type": "code",
      "source": [
        "result = countInversion(arr)\n",
        "print(result)\n",
        "#HASILNYA ITU 6, KARENA ADA 6 STEP UNTUK MENUKAR NILAI DARI KECIL HINGGA KE BESAR"
      ],
      "metadata": {
        "colab": {
          "base_uri": "https://localhost:8080/"
        },
        "id": "V0zud-LY_Nx0",
        "outputId": "e599288a-9cb2-4da0-b2cc-717145152adc"
      },
      "execution_count": 41,
      "outputs": [
        {
          "output_type": "stream",
          "name": "stdout",
          "text": [
            "6\n"
          ]
        }
      ]
    },
    {
      "cell_type": "code",
      "source": [
        "def countInversion(arr):\n",
        "  icount= 0\n",
        "  if len(arr)<=1:\n",
        "    return icount\n",
        "\n",
        "  mid = len(arr)//2\n",
        "  left = arr[:mid]\n",
        "  right = arr[mid:]\n",
        "  icount+=countInversion(left)\n",
        "  icount+=countInversion(right)\n",
        "  i = j = k = 0\n",
        "\n",
        "  #print (left)\n",
        "  #print (right)\n",
        "  while i<len(left) and j<len(right):\n",
        "    if left[i] < right[j]:\n",
        "      arr[k] = left[i]\n",
        "      i += 1\n",
        "    else:\n",
        "      #print(left[i], right[j])\n",
        "      arr[k] = arr[j]\n",
        "      j += 1\n",
        "      icount += (mid-i)\n",
        "    k += 1\n",
        "  while i<len(left):\n",
        "    arr[k] = left[i]\n",
        "    i += 1\n",
        "    k += 1\n",
        "  while j<len(right):\n",
        "    arr[k] = right[j]\n",
        "    j += 1 \n",
        "    k += 1\n",
        "  return icount"
      ],
      "metadata": {
        "id": "b-ydjhSc_RFS"
      },
      "execution_count": 42,
      "outputs": []
    },
    {
      "cell_type": "code",
      "source": [
        "arr = [1, 20, 6, 4, 5]"
      ],
      "metadata": {
        "id": "cp9mICmj_VZQ"
      },
      "execution_count": 43,
      "outputs": []
    },
    {
      "cell_type": "code",
      "source": [
        "result = countInversion(arr)\n",
        "print(result)"
      ],
      "metadata": {
        "colab": {
          "base_uri": "https://localhost:8080/"
        },
        "id": "moRiO9-d_cXI",
        "outputId": "c61a176a-0892-4ace-b7ad-80ed618d2bd2"
      },
      "execution_count": 44,
      "outputs": [
        {
          "output_type": "stream",
          "name": "stdout",
          "text": [
            "5\n"
          ]
        }
      ]
    },
    {
      "cell_type": "code",
      "source": [
        "# TANPA DIVIDE DAN CONQUER\n",
        "\n",
        "def maxSubSum(arr):\n",
        "  max_so_far=0\n",
        "  max_ending_here=0\n",
        "  for i in range (len(arr)):\n",
        "    max_ending_here += arr[i]\n",
        "    if max_ending_here > max_so_far:\n",
        "      max_so_far = max_ending_here\n",
        "    if max_ending_here < 0:\n",
        "      max_ending_here = 0\n",
        "  return max_so_far"
      ],
      "metadata": {
        "id": "IOyxpb7n_knj"
      },
      "execution_count": 45,
      "outputs": []
    },
    {
      "cell_type": "code",
      "source": [
        "arr = [-2, -5, 6, -2, -3, 1, 5, -6]\n",
        "result = maxSubSum(arr)\n",
        "print(result)"
      ],
      "metadata": {
        "colab": {
          "base_uri": "https://localhost:8080/"
        },
        "id": "G2i7TzrD_uED",
        "outputId": "a1b1e9b5-a7ba-4636-ee64-f75c450c1c6d"
      },
      "execution_count": 46,
      "outputs": [
        {
          "output_type": "stream",
          "name": "stdout",
          "text": [
            "7\n"
          ]
        }
      ]
    },
    {
      "cell_type": "code",
      "source": [
        "def maxCrossingSum(arr,low,mid,high):\n",
        "    result = 0\n",
        "    leftSum = float('-infinity')\n",
        "\n",
        "    for i in range(mid, low - 1, -1):\n",
        "        result += arr[i]\n",
        "        if result > leftSum:\n",
        "            leftSum = result\n",
        "\n",
        "    result = 0\n",
        "    rightSum = float('-infinity')\n",
        "\n",
        "    for i in range(mid+1,high+1):\n",
        "        result += arr[i]\n",
        "        if result > rightSum:\n",
        "            rightSum = result\n",
        "            \n",
        "    return leftSum + rightSum"
      ],
      "metadata": {
        "id": "e1iA4pwuAI-c"
      },
      "execution_count": 50,
      "outputs": []
    },
    {
      "cell_type": "code",
      "source": [
        "def maxSum(arr,low,high):\n",
        "    if low == high:\n",
        "        return arr[low]\n",
        "\n",
        "    mid = (low + high) // 2\n",
        "    return max(maxSum(arr, low, mid),maxSum(arr, mid + 1, high), maxCrossingSum(arr, low, mid, high))"
      ],
      "metadata": {
        "id": "RATwNxezUxtw"
      },
      "execution_count": 51,
      "outputs": []
    },
    {
      "cell_type": "code",
      "source": [
        "arr = [-2, -5, 6, 2, -3, 1, 5, -6]\n",
        "result = maxSum(arr, 0, len(arr)-1)\n",
        "print(result)"
      ],
      "metadata": {
        "colab": {
          "base_uri": "https://localhost:8080/"
        },
        "id": "u6Gap3HwAKpa",
        "outputId": "c91d28bc-3196-4678-b57b-421e4fdfecb6"
      },
      "execution_count": 52,
      "outputs": [
        {
          "output_type": "stream",
          "name": "stdout",
          "text": [
            "11\n"
          ]
        }
      ]
    },
    {
      "cell_type": "code",
      "source": [
        "def commonPrefix(str1,str2):\n",
        "    n1=len(str1);n2=len(str2)\n",
        "    i,j=0,0\n",
        "    s=\"\"\n",
        "    while i<n1 and j<n2:\n",
        "        if str1[i]==str2[j]:\n",
        "            s+=str1[i]\n",
        "            i+=1\n",
        "            j+=1\n",
        "        else:\n",
        "            break\n",
        "    return s"
      ],
      "metadata": {
        "id": "3sYDphbOWgSz"
      },
      "execution_count": 53,
      "outputs": []
    },
    {
      "cell_type": "code",
      "source": [
        "def longestCommonPrefix(arr,low,high):\n",
        "    if low==high:\n",
        "        return arr[low]\n",
        "    mid=(low+high)//2\n",
        "    result1=longestCommonPrefix(arr,low,mid)\n",
        "    result2=longestCommonPrefix(arr,mid+1,high)\n",
        "    result=commonPrefix(result1,result2)\n",
        "    return result"
      ],
      "metadata": {
        "id": "t1yvo_VwBwlN"
      },
      "execution_count": 54,
      "outputs": []
    },
    {
      "cell_type": "code",
      "source": [
        "arr=['geeksforgeeks','geeks','geek','geezer']\n",
        "result=longestCommonPrefix(arr,0,len(arr)-1)\n",
        "print(result)"
      ],
      "metadata": {
        "colab": {
          "base_uri": "https://localhost:8080/"
        },
        "id": "_QBgfg7QDDLS",
        "outputId": "bf4c8dac-ced9-4895-f6ae-19dad3f21717"
      },
      "execution_count": 55,
      "outputs": [
        {
          "output_type": "stream",
          "name": "stdout",
          "text": [
            "gee\n"
          ]
        }
      ]
    },
    {
      "cell_type": "code",
      "source": [
        "arr=['apple','ape','april']\n",
        "result=longestCommonPrefix(arr,0,len(arr)-1)\n",
        "print(result)"
      ],
      "metadata": {
        "colab": {
          "base_uri": "https://localhost:8080/"
        },
        "id": "Yx934edTDSEl",
        "outputId": "c9b507b3-8817-4a08-9e59-7e9bc98106e3"
      },
      "execution_count": 57,
      "outputs": [
        {
          "output_type": "stream",
          "name": "stdout",
          "text": [
            "ap\n"
          ]
        }
      ]
    },
    {
      "cell_type": "code",
      "source": [
        "#median dari dua array dengan divide dan conquer\n",
        "\n",
        "def medianOfArray(arr1,arr2,n):\n",
        "  m1=-1 #nomer pertama\n",
        "  m2=-1 #nomer kedua\n",
        "  count=0\n",
        "  i=j=0\n",
        "  while count < n+1:\n",
        "    count+=1\n",
        "    if i == n:\n",
        "      m1=m2\n",
        "      m2=arr[0]\n",
        "      break\n",
        "    if j == n:\n",
        "      m1=m2\n",
        "      m2=arr1[0]\n",
        "      break\n",
        "    if arr1[i] < arr2[j]:\n",
        "      m1=m2\n",
        "      m2=arr1[i]\n",
        "      i+=1\n",
        "    else:\n",
        "      m1=m2\n",
        "      m2=arr2[j]\n",
        "      j+=1\n",
        "  return (m1+m2)//2"
      ],
      "metadata": {
        "id": "L9otuK-lFpP5"
      },
      "execution_count": 58,
      "outputs": []
    },
    {
      "cell_type": "code",
      "source": [
        "arr1=[1, 12, 15, 26, 38]\n",
        "arr2=[2, 13, 17, 30, 45]"
      ],
      "metadata": {
        "id": "pHZujl1vHPz3"
      },
      "execution_count": 59,
      "outputs": []
    },
    {
      "cell_type": "code",
      "source": [
        "print(medianOfArray(arr1,arr2,len(arr1)))"
      ],
      "metadata": {
        "colab": {
          "base_uri": "https://localhost:8080/"
        },
        "id": "gmWgxviAHatI",
        "outputId": "e87c748c-b671-4cd4-de1e-b59686b98f0a"
      },
      "execution_count": 60,
      "outputs": [
        {
          "output_type": "stream",
          "name": "stdout",
          "text": [
            "16\n"
          ]
        }
      ]
    },
    {
      "cell_type": "code",
      "source": [
        "#floor in sorted array\n",
        "\n",
        "def floorSorted(arr,low,high,x):\n",
        "  #print(low,high)\n",
        "  if low>high:\n",
        "    return -1\n",
        "\n",
        "  if arr[low]>x:\n",
        "    #print(\"inside\")\n",
        "    return -1\n",
        "\n",
        "  if arr[high]<=x:\n",
        "    return arr[high]\n",
        "\n",
        "  mid=(low+high)//2\n",
        "\n",
        "  if arr[mid]==x:\n",
        "    return arr[mid]\n",
        "\n",
        "  if mid>0 and x>=arr[mid-1] and arr[mid] >x:\n",
        "    return arr[mid-1]\n",
        "\n",
        "  if mid<high and x<arr[mid+1] and x>=arr[mid]:\n",
        "    return arr[mid]\n",
        "\n",
        "  if x>arr[mid]:\n",
        "    return floorSorted(arr,low,mid+1,high,x)\n",
        "\n",
        "  else:\n",
        "    return floorSorted(arr,low,mid-1,x)"
      ],
      "metadata": {
        "id": "JM36CviKIpi4"
      },
      "execution_count": 62,
      "outputs": []
    },
    {
      "cell_type": "code",
      "source": [
        "arr = [1, 2, 8, 10, 12, 14, 19]"
      ],
      "metadata": {
        "id": "U8jx0ymELcmQ"
      },
      "execution_count": 63,
      "outputs": []
    },
    {
      "cell_type": "code",
      "source": [
        "x=5"
      ],
      "metadata": {
        "id": "EAnn0HlFLnJv"
      },
      "execution_count": 64,
      "outputs": []
    },
    {
      "cell_type": "code",
      "source": [
        "print(floorSorted(arr,0,len(arr)-1,x))"
      ],
      "metadata": {
        "colab": {
          "base_uri": "https://localhost:8080/"
        },
        "id": "HIPlu9xyLo6q",
        "outputId": "50868900-7c10-411a-fd70-a854526b4f5d"
      },
      "execution_count": 65,
      "outputs": [
        {
          "output_type": "stream",
          "name": "stdout",
          "text": [
            "2\n"
          ]
        }
      ]
    },
    {
      "cell_type": "code",
      "source": [
        "# memcari nilai terdekat dengan menggunakan divide dan conqueror\n",
        "\n",
        "def closestNumber (arr, low, high, x):\n",
        "  if low > high :\n",
        "    return -1\n",
        "  if arr [high] <= x:\n",
        "    return arr [high]\n",
        "  if arr[low] >= x:\n",
        "    return arr [low]\n",
        "  mid = ( low + high )//2\n",
        "  if arr [mid] == x:\n",
        "    return arr[mid]\n",
        "  abs_mid = abs (arr [mid] - x)\n",
        "  if mid > 0:\n",
        "    abs_left = abs (arr [mid - 1] - x)\n",
        "    if abs_left < abs_mid:\n",
        "      return closestNumber (arr, low, mid - 1, x)\n",
        "  if  mid < high :\n",
        "    abs_right = abs (arr [mid + 1] - x)\n",
        "    if abs_right < abs_mid :\n",
        "      return closestNumber (arr, mid + 1, high, x)\n",
        "  # print ('after')\n",
        "  return arr[mid]"
      ],
      "metadata": {
        "id": "NWThIZvNM7ug"
      },
      "execution_count": 66,
      "outputs": []
    },
    {
      "cell_type": "code",
      "source": [
        "arr = [2, 5, 6 , 7, 8, 8, 9]"
      ],
      "metadata": {
        "id": "PmYPsem5OLso"
      },
      "execution_count": 67,
      "outputs": []
    },
    {
      "cell_type": "code",
      "source": [
        "x=9"
      ],
      "metadata": {
        "id": "QGzH6Dq7Odb7"
      },
      "execution_count": 68,
      "outputs": []
    },
    {
      "cell_type": "code",
      "source": [
        "print(closestNumber(arr,0,len(arr)-1,x))"
      ],
      "metadata": {
        "colab": {
          "base_uri": "https://localhost:8080/"
        },
        "id": "bmHPyTykOfJ9",
        "outputId": "618f1d2d-0a57-4143-b405-4615ab1c7b3f"
      },
      "execution_count": 69,
      "outputs": [
        {
          "output_type": "stream",
          "name": "stdout",
          "text": [
            "9\n"
          ]
        }
      ]
    },
    {
      "cell_type": "code",
      "source": [
        "def fixedPoint(arr, low, high):\n",
        "    if low > high:\n",
        "        return -1\n",
        "    if arr[high] == high:\n",
        "        return arr[high]\n",
        "    if arr[low] == low:\n",
        "        return arr[low]\n",
        "    \n",
        "    mid = (low + high) // 2\n",
        "    if arr[mid] == mid:\n",
        "        return arr[mid]\n",
        "    if mid > arr[mid]:\n",
        "        return fixed_point(arr, mid + 1, high)\n",
        "    else:\n",
        "        return fixed_point(arr, low, mid - 1)"
      ],
      "metadata": {
        "id": "X0aI8KBoTiDP"
      },
      "execution_count": 70,
      "outputs": []
    },
    {
      "cell_type": "code",
      "source": [
        "arr= [9, 1, 4, 5, 2]"
      ],
      "metadata": {
        "id": "zuc0-JndTrCn"
      },
      "execution_count": 71,
      "outputs": []
    },
    {
      "cell_type": "code",
      "source": [
        "print(fixedPoint(arr,0,len(arr)-1))"
      ],
      "metadata": {
        "colab": {
          "base_uri": "https://localhost:8080/"
        },
        "id": "oqx76WvUTwrn",
        "outputId": "0779195f-8535-458f-9db1-415bf510bcda"
      },
      "execution_count": 72,
      "outputs": [
        {
          "output_type": "stream",
          "name": "stdout",
          "text": [
            "1\n"
          ]
        }
      ]
    }
  ]
}