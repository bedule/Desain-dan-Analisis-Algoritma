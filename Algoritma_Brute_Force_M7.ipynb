{
  "nbformat": 4,
  "nbformat_minor": 0,
  "metadata": {
    "colab": {
      "provenance": [],
      "authorship_tag": "ABX9TyOzUOvOpaxyNCqBeNFgE+wg",
      "include_colab_link": true
    },
    "kernelspec": {
      "name": "python3",
      "display_name": "Python 3"
    },
    "language_info": {
      "name": "python"
    }
  },
  "cells": [
    {
      "cell_type": "markdown",
      "metadata": {
        "id": "view-in-github",
        "colab_type": "text"
      },
      "source": [
        "<a href=\"https://colab.research.google.com/github/bedule/Desain-dan-Analisis-Algoritma/blob/main/Algoritma_Brute_Force_M7.ipynb\" target=\"_parent\"><img src=\"https://colab.research.google.com/assets/colab-badge.svg\" alt=\"Open In Colab\"/></a>"
      ]
    },
    {
      "cell_type": "code",
      "execution_count": 1,
      "metadata": {
        "id": "tywo0YJmvCPm"
      },
      "outputs": [],
      "source": [
        "import numpy as np\n",
        "import matplotlib.pyplot as plt"
      ]
    },
    {
      "cell_type": "markdown",
      "source": [
        "ALGORITMA BRUTE FORCE:\n",
        "**SEQUENTIAL SEARCH**"
      ],
      "metadata": {
        "id": "zt7vKIKOxJQu"
      }
    },
    {
      "cell_type": "code",
      "source": [
        "def Sequential_search(dlist, item):\n",
        "\n",
        "  pos = 0\n",
        "  found = False\n",
        "\n",
        "  while pos < len(dlist) and not found:\n",
        "    if dlist[pos] == item:\n",
        "      found = True\n",
        "    else:\n",
        "      pos = pos + 1\n",
        "\n",
        "  return found, pos"
      ],
      "metadata": {
        "id": "RByepVifvHhf"
      },
      "execution_count": 2,
      "outputs": []
    },
    {
      "cell_type": "code",
      "source": [
        "print(Sequential_search([11,23,58,31,56,77,43,12,65,19],31))"
      ],
      "metadata": {
        "colab": {
          "base_uri": "https://localhost:8080/"
        },
        "id": "zGDdfkhfvTNs",
        "outputId": "e3c17861-dd45-448a-c193-f67c4f1d28f6"
      },
      "execution_count": 3,
      "outputs": [
        {
          "output_type": "stream",
          "name": "stdout",
          "text": [
            "(True, 3)\n"
          ]
        }
      ]
    },
    {
      "cell_type": "markdown",
      "source": [
        "Jadi disini untuk menentukan letak **'g'**, maka si komputer akan mencari String dari index 0. dan akan menuju ke **'g'**, yaitu = **6**"
      ],
      "metadata": {
        "id": "x6ciVRHov0ji"
      }
    },
    {
      "cell_type": "code",
      "source": [
        "print(Sequential_search(['a','b','c','d','e','f','g','h'],'g'))"
      ],
      "metadata": {
        "colab": {
          "base_uri": "https://localhost:8080/"
        },
        "id": "YAo3jU77vqlm",
        "outputId": "55430b04-8518-4acc-b02f-9ee352cecfa6"
      },
      "execution_count": 4,
      "outputs": [
        {
          "output_type": "stream",
          "name": "stdout",
          "text": [
            "(True, 6)\n"
          ]
        }
      ]
    },
    {
      "cell_type": "markdown",
      "source": [
        "ALGORITMA BRUTE FORCE:\n",
        "**PANGKAT**"
      ],
      "metadata": {
        "id": "zDe6vpH6xtAT"
      }
    },
    {
      "cell_type": "code",
      "source": [
        "bilangan = int(input('Masukkan bilangan: '))\n",
        "pangkat = int(input('Masukkan pangkat: '))\n",
        "\n",
        "def hitung_pangkat(bilangan, pangkat):\n",
        "  if pangkat > 1:\n",
        "    return bilangan * hitung_pangkat(bilangan, pangkat - 1)\n",
        "\n",
        "  return bilangan\n",
        "\n",
        "hasil = hitung_pangkat(bilangan, pangkat)\n",
        "print(f'Hasil = {hasil}')"
      ],
      "metadata": {
        "colab": {
          "base_uri": "https://localhost:8080/"
        },
        "id": "DltX6a1xwNWS",
        "outputId": "9026db1d-2456-4e7d-ca05-f829a21b9d00"
      },
      "execution_count": 5,
      "outputs": [
        {
          "output_type": "stream",
          "name": "stdout",
          "text": [
            "Masukkan bilangan: 5\n",
            "Masukkan pangkat: 2\n",
            "Hasil = 25\n"
          ]
        }
      ]
    },
    {
      "cell_type": "markdown",
      "source": [
        "ALGORITMA BRUTE FORCE:\n",
        "**FAKTORIAL**"
      ],
      "metadata": {
        "id": "E7vonpG9yo2R"
      }
    },
    {
      "cell_type": "markdown",
      "source": [
        "**CONTOH:** 5! = 5.4.3.2.1 = 120"
      ],
      "metadata": {
        "id": "oMwAM5cYzMPD"
      }
    },
    {
      "cell_type": "code",
      "source": [
        "n = int(input('Masukkan nilai n: '))\n",
        "\n",
        "def hitung_faktorial (n):\n",
        "  if n > 2:\n",
        "    return n * hitung_faktorial(n - 1)\n",
        "\n",
        "  return 2\n",
        "\n",
        "faktorial = hitung_faktorial(n)\n",
        "print(f'{n}! = {faktorial}')"
      ],
      "metadata": {
        "colab": {
          "base_uri": "https://localhost:8080/"
        },
        "id": "68OSpKLSx9z5",
        "outputId": "455e58f8-d1c6-4a84-c814-c23c2e109b3c"
      },
      "execution_count": 6,
      "outputs": [
        {
          "output_type": "stream",
          "name": "stdout",
          "text": [
            "Masukkan nilai n: 5\n",
            "5! = 120\n"
          ]
        }
      ]
    },
    {
      "cell_type": "markdown",
      "source": [
        "ALGORITMA BRUTE FORCE:\n",
        "**STRING MATCHING**"
      ],
      "metadata": {
        "id": "P6n5sk-Xyzn9"
      }
    },
    {
      "cell_type": "code",
      "source": [
        "def string_match(string, sub_str):\n",
        "  for i in range(len(string)-len(sub_str)+1):\n",
        "    index = i\n",
        "    for j in range(len(sub_str)):\n",
        "      if string[index] == sub_str[j]:\n",
        "        index +=1\n",
        "      else:\n",
        "        break\n",
        "      if index-i == len(sub_str):\n",
        "        return i\n",
        "  return -1\n",
        "\n",
        "if __name__ == \"__main__\":\n",
        "  print(string_match(\"adbcbdc\", \"bdc\"))"
      ],
      "metadata": {
        "colab": {
          "base_uri": "https://localhost:8080/"
        },
        "id": "3uqsq9Goywln",
        "outputId": "52d4dc32-5f68-4ba2-d51f-c595c9d5e959"
      },
      "execution_count": 7,
      "outputs": [
        {
          "output_type": "stream",
          "name": "stdout",
          "text": [
            "4\n"
          ]
        }
      ]
    },
    {
      "cell_type": "markdown",
      "source": [
        "Untuk String Matcing ini kita hanya mengambil String **\"bdc\"**, dari **\"adbcbdc\"** dengan index 0. dan hasilnya huruf bdc yang keluar itu 4."
      ],
      "metadata": {
        "id": "KNL3iy2JzcxG"
      }
    },
    {
      "cell_type": "code",
      "source": [
        "print(string_match(\"123456789\",\"56\"))"
      ],
      "metadata": {
        "colab": {
          "base_uri": "https://localhost:8080/"
        },
        "id": "bqeUL8Ps0SI3",
        "outputId": "88c61859-9d36-47dd-e061-4306b3bb73b4"
      },
      "execution_count": 8,
      "outputs": [
        {
          "output_type": "stream",
          "name": "stdout",
          "text": [
            "4\n"
          ]
        }
      ]
    },
    {
      "cell_type": "markdown",
      "source": [
        "**STRATEGI ALGORITMA BRUTE FORCE**"
      ],
      "metadata": {
        "id": "bLtJkzNg51dG"
      }
    },
    {
      "cell_type": "code",
      "source": [
        "import random\n",
        "from itertools import permutations\n",
        "alltours = permutations\n",
        "\n",
        "def distance_tour(aTour):\n",
        "  return sum(distance_points(aTour[i - 1], aTour[i])\n",
        "    for i in range(len(aTour)))\n",
        "  \n",
        "aCity = complex\n",
        "\n",
        "def distance_points(first, second):\n",
        "  return abs(first - second)\n",
        "\n",
        "def generate_cities (number_of_cities):\n",
        "  seed=111;width=500;height=300\n",
        "  random.seed((number_of_cities, seed))\n",
        "  return frozenset(aCity(random.randint(1, width), random.randint(1, height))\n",
        "    for c in range(number_of_cities))"
      ],
      "metadata": {
        "id": "0BJDSyy_19xT"
      },
      "execution_count": 9,
      "outputs": []
    },
    {
      "cell_type": "code",
      "source": [
        "%matplotlib inline\n",
        "\n",
        "def visualize_tour(tour, style='bo-'):\n",
        "  if len(tour) > 1000: plt.figure(fgsize=(15,10))\n",
        "  start = tour[0:1]\n",
        "  visualize_segment(tour + start, style)\n",
        "  visualize_segment(start, 'rD')\n",
        "def visualize_segment (segment, style='bo-'):\n",
        "  plt.plot([X(c) for c in segment], [Y(c) for c in segment], style, clip_on=False)\n",
        "  plt.axis('scaled')\n",
        "  plt.axis('off')\n",
        "\n",
        "def X(city): \"X axis\"; return city.real\n",
        "def Y(city): \"Y axis\"; return city.imag"
      ],
      "metadata": {
        "id": "oCATm0sU4fbl"
      },
      "execution_count": 10,
      "outputs": []
    },
    {
      "cell_type": "code",
      "source": [
        "from time import process_time\n",
        "from collections import Counter\n",
        "def tsp(algorithm, cities):\n",
        "  t0 = process_time()\n",
        "  tour = algorithm(cities)\n",
        "  t1 = process_time()\n",
        "  assert Counter(tour) == Counter(cities)\n",
        "  visualize_tour(tour)\n",
        "  print(\"{}:{} cities => tour length {:.0f}(in {:.3f} sec)\".format(name(algorithm), len(tour), distance_tour(tour), t1-t0))\n",
        "\n",
        "def name(algorithm): return algorithm.__name__.replace('_tsp','')"
      ],
      "metadata": {
        "id": "MPG3kNfH4xwW"
      },
      "execution_count": 11,
      "outputs": []
    },
    {
      "cell_type": "code",
      "source": [
        "def brute_force(cities):\n",
        "  \"Generate all possible tours of the cities and choose the shortest tour.\"\n",
        "  return shortest_tour(alltours(cities))\n",
        "def shortest_tour(tours): return min(tours, key=distance_tour)"
      ],
      "metadata": {
        "id": "CtbBV-e75VWx"
      },
      "execution_count": 12,
      "outputs": []
    },
    {
      "cell_type": "code",
      "source": [
        "tsp(brute_force, generate_cities(10))"
      ],
      "metadata": {
        "colab": {
          "base_uri": "https://localhost:8080/",
          "height": 266
        },
        "id": "tlm3aHEA5hLr",
        "outputId": "612bbf40-56cd-4aa9-ea9e-622ba26f0e0a"
      },
      "execution_count": 13,
      "outputs": [
        {
          "output_type": "stream",
          "name": "stdout",
          "text": [
            "brute_force:10 cities => tour length 1218(in 14.145 sec)\n"
          ]
        },
        {
          "output_type": "display_data",
          "data": {
            "text/plain": [
              "<Figure size 432x288 with 1 Axes>"
            ],
            "image/png": "[encoded data removed]"
          },
          "metadata": {
            "needs_background": "light"
          }
        }
      ]
    },
    {
      "cell_type": "markdown",
      "source": [
        "![20 titik Greedy Algoritma.png](data:image/png;base64,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)"
      ],
      "metadata": {
        "id": "jijFxDCmQN0t"
      }
    },
    {
      "cell_type": "markdown",
      "source": [
        "Lebih cepat mana **BRUTE FORCE** atau **GREEDY ALGORITMA** pada TSP dengan 20 Titik?\n",
        "\n",
        "\n",
        "*   Lebih cepat **GREEDY ALGOTIMA**, yaitu 0,000 sec\n",
        "*   Sedangkan **BRUTE FORCE**, itu UNKNOWN (tidak tahu)"
      ],
      "metadata": {
        "id": "9HEU3uSqOrJI"
      }
    }
  ]
}