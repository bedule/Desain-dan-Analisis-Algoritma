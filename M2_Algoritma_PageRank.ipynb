{
  "nbformat": 4,
  "nbformat_minor": 0,
  "metadata": {
    "colab": {
      "provenance": [],
      "authorship_tag": "ABX9TyMMcL3w94km+543fXXW8y6a",
      "include_colab_link": true
    },
    "kernelspec": {
      "name": "python3",
      "display_name": "Python 3"
    },
    "language_info": {
      "name": "python"
    }
  },
  "cells": [
    {
      "cell_type": "markdown",
      "metadata": {
        "id": "view-in-github",
        "colab_type": "text"
      },
      "source": [
        "<a href=\"https://colab.research.google.com/github/bedule/Desain-dan-Analisis-Algoritma/blob/main/M2_Algoritma_PageRank.ipynb\" target=\"_parent\"><img src=\"https://colab.research.google.com/assets/colab-badge.svg\" alt=\"Open In Colab\"/></a>"
      ]
    },
    {
      "cell_type": "markdown",
      "source": [
        "Impor Library yang dibutuhkan"
      ],
      "metadata": {
        "id": "ba6mPSwt-GDt"
      }
    },
    {
      "cell_type": "code",
      "execution_count": 37,
      "metadata": {
        "id": "eRsR0X3m1JVn"
      },
      "outputs": [],
      "source": [
        "import numpy as np\n",
        "import networkx as nx\n",
        "import matplotlib.pyplot as plt\n",
        "%matplotlib inline"
      ]
    },
    {
      "cell_type": "code",
      "source": [
        "myWeb = nx.DiGraph()\n",
        "myPages = range(1,5)"
      ],
      "metadata": {
        "id": "ifKiGzpi1wyF"
      },
      "execution_count": 38,
      "outputs": []
    },
    {
      "cell_type": "code",
      "source": [
        "connections = [(1,3),(2,1),(2,3),(3,1),(3,2),(3,4),(4,5),(5,1),(5,4)]\n",
        "myWeb.add_nodes_from(myPages)\n",
        "myWeb.add_edges_from(connections)"
      ],
      "metadata": {
        "id": "EfHu-7Ro4iJ_"
      },
      "execution_count": 39,
      "outputs": []
    },
    {
      "cell_type": "markdown",
      "source": [
        "Melakukan Plotting"
      ],
      "metadata": {
        "id": "HOUs1560-Seh"
      }
    },
    {
      "cell_type": "code",
      "source": [
        "pos=nx.shell_layout(myWeb)\n",
        "nx.draw(myWeb, pos, arrows=True, with_labels=True, node_color='y', edge_color='r')\n",
        "plt.show()"
      ],
      "metadata": {
        "colab": {
          "base_uri": "https://localhost:8080/",
          "height": 319
        },
        "id": "VNeewlVA52jG",
        "outputId": "883ff4d5-e617-4602-8fe0-bcc9277a8880"
      },
      "execution_count": 40,
      "outputs": [
        {
          "output_type": "display_data",
          "data": {
            "text/plain": [
              "<Figure size 432x288 with 1 Axes>"
            ],
            "image/png": "[encoded data removed]"
          },
          "metadata": {}
        }
      ]
    },
    {
      "cell_type": "markdown",
      "source": [
        "**IMPLEMENTASI ALGORITMA PAGERANK**"
      ],
      "metadata": {
        "id": "B8urZlwu-ofo"
      }
    },
    {
      "cell_type": "code",
      "source": [
        "def createPageRank(aGraph):\n",
        "  nodes_set = len(aGraph)\n",
        "  M = nx.to_numpy_matrix(aGraph)\n",
        "  outwards = np.squeeze(np.asarray(np.sum(M, axis=1)))\n",
        "  prob_outwards = np.array(\n",
        "      [1.0/count\n",
        "       if count>0 else 0.0 for count in outwards])\n",
        "  G = np.asarray(np.multiply(M.T, prob_outwards))\n",
        "  p = np.ones(nodes_set)/float(nodes_set)\n",
        "  if np.min(np.sum(G, axis=0)) < 1.0:\n",
        "    print('WARN: G is substochastic')\n",
        "  return G,p"
      ],
      "metadata": {
        "id": "sMPU2UK37OZu"
      },
      "execution_count": 41,
      "outputs": []
    },
    {
      "cell_type": "code",
      "source": [
        "G, p = createPageRank(myWeb)\n",
        "print (G)"
      ],
      "metadata": {
        "colab": {
          "base_uri": "https://localhost:8080/"
        },
        "id": "zxl20oTL7t6R",
        "outputId": "5f283511-e9fd-410e-c443-8b01901d3a11"
      },
      "execution_count": 42,
      "outputs": [
        {
          "output_type": "stream",
          "name": "stdout",
          "text": [
            "[[0.         0.5        0.33333333 0.         0.5       ]\n",
            " [0.         0.         0.33333333 0.         0.        ]\n",
            " [1.         0.5        0.         0.         0.        ]\n",
            " [0.         0.         0.33333333 0.         0.5       ]\n",
            " [0.         0.         0.         1.         0.        ]]\n"
          ]
        }
      ]
    },
    {
      "cell_type": "markdown",
      "source": [
        "**MATRIX PAGERANK**\n",
        "Tabel perhitungan PR secara manual"
      ],
      "metadata": {
        "id": "56QSDkAI_KEH"
      }
    },
    {
      "cell_type": "markdown",
      "source": [
        "**LATIHAN 1**"
      ],
      "metadata": {
        "id": "8Wc_1WM0KOTi"
      }
    },
    {
      "cell_type": "code",
      "source": [
        "myWeb = nx.DiGraph()\n",
        "myPages = range(1,6)\n",
        "\n",
        "connections = [(1,2),(2,3),(3,4),(4,5),(5,6)]\n",
        "myWeb.add_nodes_from(myPages)\n",
        "myWeb.add_edges_from(connections)\n",
        "pos=nx.spring_layout(myWeb, seed=40)\n",
        "nx.draw(myWeb, pos, arrows=True, with_labels=True, node_color='lightgreen', edge_color='yellow')\n",
        "plt.show()\n",
        "G,p = createPageRank (myWeb)\n",
        "print (G)"
      ],
      "metadata": {
        "colab": {
          "base_uri": "https://localhost:8080/",
          "height": 447
        },
        "id": "JYPaD3w_FlER",
        "outputId": "c721bcdf-61bb-475b-f300-b9c8ede70dcb"
      },
      "execution_count": 43,
      "outputs": [
        {
          "output_type": "display_data",
          "data": {
            "text/plain": [
              "<Figure size 432x288 with 1 Axes>"
            ],
            "image/png": "[encoded data removed]"
          },
          "metadata": {}
        },
        {
          "output_type": "stream",
          "name": "stdout",
          "text": [
            "WARN: G is substochastic\n",
            "[[0. 0. 0. 0. 0. 0.]\n",
            " [1. 0. 0. 0. 0. 0.]\n",
            " [0. 1. 0. 0. 0. 0.]\n",
            " [0. 0. 1. 0. 0. 0.]\n",
            " [0. 0. 0. 1. 0. 0.]\n",
            " [0. 0. 0. 0. 1. 0.]]\n"
          ]
        }
      ]
    },
    {
      "cell_type": "code",
      "source": [
        "def createPageRank(aGraph):\n",
        "  nodes_set = len(aGraph)\n",
        "  M = nx.to_numpy_matrix(aGraph)\n",
        "  outwards = np.squeeze(np.asarray(np.sum(M, axis=1)))\n",
        "  prob_outwards = np.array(\n",
        "      [1.0/count\n",
        "       if count>0 else 0.0 for count in outwards])\n",
        "  G = np.asarray(np.multiply(M.T, prob_outwards))\n",
        "  p = np.ones(nodes_set)/float(nodes_set)\n",
        "  if np.min(np.sum(G, axis=0)) < 1.0:\n",
        "    print('WARN: G is substochastic')\n",
        "  return G,p"
      ],
      "metadata": {
        "id": "jmiYmBdTMjCc"
      },
      "execution_count": 44,
      "outputs": []
    },
    {
      "cell_type": "code",
      "source": [
        "G, p = createPageRank(myWeb)\n",
        "print (G)"
      ],
      "metadata": {
        "colab": {
          "base_uri": "https://localhost:8080/"
        },
        "id": "OvS9yNW1Mqmv",
        "outputId": "e58f9592-90f4-4a14-b2fd-33325eb8f121"
      },
      "execution_count": 45,
      "outputs": [
        {
          "output_type": "stream",
          "name": "stdout",
          "text": [
            "WARN: G is substochastic\n",
            "[[0. 0. 0. 0. 0. 0.]\n",
            " [1. 0. 0. 0. 0. 0.]\n",
            " [0. 1. 0. 0. 0. 0.]\n",
            " [0. 0. 1. 0. 0. 0.]\n",
            " [0. 0. 0. 1. 0. 0.]\n",
            " [0. 0. 0. 0. 1. 0.]]\n"
          ]
        }
      ]
    },
    {
      "cell_type": "markdown",
      "source": [
        "**LATIHAN 2**"
      ],
      "metadata": {
        "id": "jUtVRNcdMvb8"
      }
    },
    {
      "cell_type": "code",
      "source": [
        "myWeb = nx.DiGraph()\n",
        "myPages = range(1,5)\n",
        "\n",
        "connections = [(1,2),(2,3),(3,4),(4,5),(5,1)]\n",
        "myWeb.add_nodes_from(myPages)\n",
        "myWeb.add_edges_from(connections)\n",
        "pos=nx.shell_layout(myWeb)\n",
        "nx.draw(myWeb, pos, arrows=True, with_labels=True, node_color='b', edge_color='r')\n",
        "plt.show()"
      ],
      "metadata": {
        "colab": {
          "base_uri": "https://localhost:8080/",
          "height": 319
        },
        "id": "tyP3FBvAM0_K",
        "outputId": "33752c2d-446a-4bab-8613-77ff76bf0a6a"
      },
      "execution_count": 46,
      "outputs": [
        {
          "output_type": "display_data",
          "data": {
            "text/plain": [
              "<Figure size 432x288 with 1 Axes>"
            ],
            "image/png": "[encoded data removed]"
          },
          "metadata": {}
        }
      ]
    },
    {
      "cell_type": "code",
      "source": [
        "def createPageRank(aGraph):\n",
        "  nodes_set = len(aGraph)\n",
        "  M = nx.to_numpy_matrix(aGraph)\n",
        "  outwards = np.squeeze(np.asarray(np.sum(M, axis=1)))\n",
        "  prob_outwards = np.array(\n",
        "      [1.0/count\n",
        "       if count>0 else 0.0 for count in outwards])\n",
        "  G = np.asarray(np.multiply(M.T, prob_outwards))\n",
        "  p = np.ones(nodes_set)/float(nodes_set)\n",
        "  if np.min(np.sum(G, axis=0)) < 1.0:\n",
        "    print('WARN: G is substochastic')\n",
        "  return G,p"
      ],
      "metadata": {
        "id": "NKcy246UNplr"
      },
      "execution_count": 47,
      "outputs": []
    },
    {
      "cell_type": "code",
      "source": [
        "G, p = createPageRank(myWeb)\n",
        "print (G)"
      ],
      "metadata": {
        "colab": {
          "base_uri": "https://localhost:8080/"
        },
        "id": "bNZX6iQoNsvz",
        "outputId": "80b22f40-ed22-4ed9-c865-bd905366c07b"
      },
      "execution_count": 48,
      "outputs": [
        {
          "output_type": "stream",
          "name": "stdout",
          "text": [
            "[[0. 0. 0. 0. 1.]\n",
            " [1. 0. 0. 0. 0.]\n",
            " [0. 1. 0. 0. 0.]\n",
            " [0. 0. 1. 0. 0.]\n",
            " [0. 0. 0. 1. 0.]]\n"
          ]
        }
      ]
    },
    {
      "cell_type": "markdown",
      "source": [
        "**LATIHAN 3**"
      ],
      "metadata": {
        "id": "SQSpV9JnNyVV"
      }
    },
    {
      "cell_type": "code",
      "source": [
        "myWeb = nx.DiGraph()\n",
        "myPages = range(1,4)\n",
        "\n",
        "connections = [(1,2),(2,1),(2,3),(3,2),(3,4),(4,3)]\n",
        "myWeb.add_nodes_from(myPages)\n",
        "myWeb.add_edges_from(connections)\n",
        "pos=nx.spring_layout(myWeb, seed=1)\n",
        "nx.draw(myWeb, pos, arrows=True, with_labels=True, node_color='lightgreen', edge_color='m')\n",
        "plt.show()\n",
        "G,p = createPageRank (myWeb)\n",
        "print (G)"
      ],
      "metadata": {
        "colab": {
          "base_uri": "https://localhost:8080/",
          "height": 392
        },
        "id": "bkQLkjcWOFWz",
        "outputId": "1d708c5a-dcdd-41cc-869b-66f595c1eade"
      },
      "execution_count": 49,
      "outputs": [
        {
          "output_type": "display_data",
          "data": {
            "text/plain": [
              "<Figure size 432x288 with 1 Axes>"
            ],
            "image/png": "[encoded data removed]"
          },
          "metadata": {}
        },
        {
          "output_type": "stream",
          "name": "stdout",
          "text": [
            "[[0.  0.5 0.  0. ]\n",
            " [1.  0.  0.5 0. ]\n",
            " [0.  0.5 0.  1. ]\n",
            " [0.  0.  0.5 0. ]]\n"
          ]
        }
      ]
    },
    {
      "cell_type": "markdown",
      "source": [
        "**LATIHAN 4**"
      ],
      "metadata": {
        "id": "44dwo5e-O-ly"
      }
    },
    {
      "cell_type": "code",
      "source": [
        "myWeb = nx.DiGraph()\n",
        "myPages = range(1,6)\n",
        "\n",
        "connections = [(1,2),(2,3),(3,4),(4,5),(5,6),(6,1)]\n",
        "myWeb.add_nodes_from(myPages)\n",
        "myWeb.add_edges_from(connections)\n",
        "pos=nx.shell_layout(myWeb)\n",
        "nx.draw(myWeb, pos, arrows=True, with_labels=True, node_color='b', edge_color='r')\n",
        "plt.show()"
      ],
      "metadata": {
        "colab": {
          "base_uri": "https://localhost:8080/",
          "height": 319
        },
        "id": "wjK61klDO91h",
        "outputId": "99af5803-e2ac-4a93-bcca-60d136c77de4"
      },
      "execution_count": 50,
      "outputs": [
        {
          "output_type": "display_data",
          "data": {
            "text/plain": [
              "<Figure size 432x288 with 1 Axes>"
            ],
            "image/png": "[encoded data removed]"
          },
          "metadata": {}
        }
      ]
    },
    {
      "cell_type": "code",
      "source": [
        "def createPageRank(aGraph):\n",
        "  nodes_set = len(aGraph)\n",
        "  M = nx.to_numpy_matrix(aGraph)\n",
        "  outwards = np.squeeze(np.asarray(np.sum(M, axis=1)))\n",
        "  prob_outwards = np.array(\n",
        "      [1.0/count\n",
        "       if count>0 else 0.0 for count in outwards])\n",
        "  G = np.asarray(np.multiply(M.T, prob_outwards))\n",
        "  p = np.ones(nodes_set)/float(nodes_set)\n",
        "  if np.min(np.sum(G, axis=0)) < 1.0:\n",
        "    print('WARN: G is substochastic')\n",
        "  return G,p"
      ],
      "metadata": {
        "id": "q9w4HX0uS01a"
      },
      "execution_count": 51,
      "outputs": []
    },
    {
      "cell_type": "code",
      "source": [
        "G, p = createPageRank(myWeb)\n",
        "print (G)"
      ],
      "metadata": {
        "colab": {
          "base_uri": "https://localhost:8080/"
        },
        "id": "WiUUpMVVS5P4",
        "outputId": "0d23f5d1-066f-4061-8e9e-4a22ca7113e6"
      },
      "execution_count": 52,
      "outputs": [
        {
          "output_type": "stream",
          "name": "stdout",
          "text": [
            "[[0. 0. 0. 0. 0. 1.]\n",
            " [1. 0. 0. 0. 0. 0.]\n",
            " [0. 1. 0. 0. 0. 0.]\n",
            " [0. 0. 1. 0. 0. 0.]\n",
            " [0. 0. 0. 1. 0. 0.]\n",
            " [0. 0. 0. 0. 1. 0.]]\n"
          ]
        }
      ]
    },
    {
      "cell_type": "markdown",
      "source": [
        "**LATIHAN 5**"
      ],
      "metadata": {
        "id": "GpOSxC_kS8QX"
      }
    },
    {
      "cell_type": "code",
      "source": [
        "myWeb = nx.DiGraph()\n",
        "myPages = range(1,4)\n",
        "\n",
        "connections = [(1,2),(2,1),(2,3),(3,2),(3,4),(4,1)]\n",
        "myWeb.add_nodes_from(myPages)\n",
        "myWeb.add_edges_from(connections)\n",
        "pos=nx.shell_layout(myWeb)\n",
        "nx.draw(myWeb, pos, arrows=True, with_labels=True, node_color='b', edge_color='r')\n",
        "plt.show()"
      ],
      "metadata": {
        "colab": {
          "base_uri": "https://localhost:8080/",
          "height": 319
        },
        "id": "QcLoernXS-kk",
        "outputId": "2e03998e-7f93-4092-80f1-05eb82b14cf7"
      },
      "execution_count": 53,
      "outputs": [
        {
          "output_type": "display_data",
          "data": {
            "text/plain": [
              "<Figure size 432x288 with 1 Axes>"
            ],
            "image/png": "[encoded data removed]"
          },
          "metadata": {}
        }
      ]
    },
    {
      "cell_type": "code",
      "source": [
        "def createPageRank(aGraph):\n",
        "  nodes_set = len(aGraph)\n",
        "  M = nx.to_numpy_matrix(aGraph)\n",
        "  outwards = np.squeeze(np.asarray(np.sum(M, axis=1)))\n",
        "  prob_outwards = np.array(\n",
        "      [1.0/count\n",
        "       if count>0 else 0.0 for count in outwards])\n",
        "  G = np.asarray(np.multiply(M.T, prob_outwards))\n",
        "  p = np.ones(nodes_set)/float(nodes_set)\n",
        "  if np.min(np.sum(G, axis=0)) < 1.0:\n",
        "    print('WARN: G is substochastic')\n",
        "  return G,p"
      ],
      "metadata": {
        "id": "R_tdbv2KTi-2"
      },
      "execution_count": 54,
      "outputs": []
    },
    {
      "cell_type": "code",
      "source": [
        "G, p = createPageRank(myWeb)\n",
        "print (G)"
      ],
      "metadata": {
        "colab": {
          "base_uri": "https://localhost:8080/"
        },
        "id": "Hy6WQYV-Tu60",
        "outputId": "d16d5be5-8803-448f-94a3-82e3c15312eb"
      },
      "execution_count": 55,
      "outputs": [
        {
          "output_type": "stream",
          "name": "stdout",
          "text": [
            "[[0.  0.5 0.  1. ]\n",
            " [1.  0.  0.5 0. ]\n",
            " [0.  0.5 0.  0. ]\n",
            " [0.  0.  0.5 0. ]]\n"
          ]
        }
      ]
    },
    {
      "cell_type": "markdown",
      "source": [
        "**LATIHAN 6**"
      ],
      "metadata": {
        "id": "yx4knrteTwiq"
      }
    },
    {
      "cell_type": "code",
      "source": [
        "myWeb = nx.DiGraph()\n",
        "myPages = range(1,5)\n",
        "\n",
        "connections = [(1,2),(2,3),(3,4),(4,1),(4,5),(5,1)]\n",
        "myWeb.add_nodes_from(myPages)\n",
        "myWeb.add_edges_from(connections)\n",
        "pos=nx.random_layout(myWeb)\n",
        "nx.draw(myWeb, pos, arrows=True, with_labels=True)\n",
        "plt.show()\n",
        "\n",
        "G, p = createPageRank(myWeb)\n",
        "print (G)"
      ],
      "metadata": {
        "colab": {
          "base_uri": "https://localhost:8080/",
          "height": 410
        },
        "id": "v_KSevDaUFGu",
        "outputId": "81f6f153-c3fe-41dd-e2dd-71b82fb6b165"
      },
      "execution_count": 71,
      "outputs": [
        {
          "output_type": "display_data",
          "data": {
            "text/plain": [
              "<Figure size 432x288 with 1 Axes>"
            ],
            "image/png": "[encoded data removed]"
          },
          "metadata": {}
        },
        {
          "output_type": "stream",
          "name": "stdout",
          "text": [
            "[[0.  0.  0.  0.5 1. ]\n",
            " [1.  0.  0.  0.  0. ]\n",
            " [0.  1.  0.  0.  0. ]\n",
            " [0.  0.  1.  0.  0. ]\n",
            " [0.  0.  0.  0.5 0. ]]\n"
          ]
        }
      ]
    },
    {
      "cell_type": "code",
      "source": [
        "def createPageRank(aGraph):\n",
        "  nodes_set = len(aGraph)\n",
        "  M = nx.to_numpy_matrix(aGraph)\n",
        "  outwards = np.squeeze(np.asarray(np.sum(M, axis=1)))\n",
        "  prob_outwards = np.array(\n",
        "      [1.0/count\n",
        "       if count>0 else 0.0 for count in outwards])\n",
        "  G = np.asarray(np.multiply(M.T, prob_outwards))\n",
        "  p = np.ones(nodes_set)/float(nodes_set)\n",
        "  if np.min(np.sum(G, axis=0)) < 1.0:\n",
        "    print('WARN: G is substochastic')\n",
        "  return G,p"
      ],
      "metadata": {
        "id": "3lgdS_duZ5kN"
      },
      "execution_count": 57,
      "outputs": []
    }
  ]
}